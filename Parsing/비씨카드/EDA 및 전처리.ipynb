{
 "cells": [
  {
   "cell_type": "code",
   "execution_count": 1,
   "metadata": {},
   "outputs": [],
   "source": [
    "import pandas as pd\n",
    "import numpy as np\n",
    "import matplotlib as mpl\n",
    "import matplotlib.pyplot as plt\n",
    "import copy\n",
    "%matplotlib inline\n",
    "from sklearn import preprocessing"
   ]
  },
  {
   "cell_type": "code",
   "execution_count": 2,
   "metadata": {},
   "outputs": [],
   "source": [
    "import warnings\n",
    "warnings.filterwarnings(action='ignore')"
   ]
  },
  {
   "cell_type": "code",
   "execution_count": 3,
   "metadata": {},
   "outputs": [],
   "source": [
    "plt.rc('font', family='AppleGothic')\n",
    "plt.rcParams['axes.unicode_minus']=False"
   ]
  },
  {
   "cell_type": "code",
   "execution_count": 4,
   "metadata": {},
   "outputs": [],
   "source": [
    "temp201904 = pd.read_csv(\"/Users/jaeyoungcho/Desktop/2020 금융 빅데이터 챌린지-공모전데이터/데이터/비씨카드/거래내역_201904.csv\", sep=\",\", encoding=\"CP949\")\n",
    "temp201905 = pd.read_csv(\"/Users/jaeyoungcho/Desktop/2020 금융 빅데이터 챌린지-공모전데이터/데이터/비씨카드/거래내역_201905.csv\", sep=\",\", encoding=\"CP949\")\n",
    "temp202004 = pd.read_csv(\"/Users/jaeyoungcho/Desktop/2020 금융 빅데이터 챌린지-공모전데이터/데이터/비씨카드/거래내역_202004.csv\", sep=\",\", encoding=\"CP949\")\n",
    "temp202005 = pd.read_csv(\"/Users/jaeyoungcho/Desktop/2020 금융 빅데이터 챌린지-공모전데이터/데이터/비씨카드/거래내역_202005.csv\", sep=\",\", encoding=\"CP949\")\n",
    "\n",
    "job = pd.read_csv(\"/Users/jaeyoungcho/Desktop/2020 금융 빅데이터 챌린지-공모전데이터/데이터/비씨카드/공통코드.csv\", sep=\",\", encoding=\"CP949\")"
   ]
  },
  {
   "cell_type": "code",
   "execution_count": 5,
   "metadata": {},
   "outputs": [],
   "source": [
    "# 2019년 4월 데이터에 16일까지 밖에 없어서 2020년 4월 17일 이상 드롭\n",
    "drop_date = temp202004[temp202004['기준일자'] >= 20200417].index.tolist()\n",
    "temp202004.drop(drop_date,axis = 0,inplace = True)"
   ]
  },
  {
   "cell_type": "code",
   "execution_count": 6,
   "metadata": {},
   "outputs": [],
   "source": [
    "# 2019년 5월 데이터에 14일까지 밖에 없어서 2020년 5월 15일 이상 드롭\n",
    "drop_date = temp202005[temp202005['기준일자'] >= 20200515].index.tolist()\n",
    "temp202005.drop(drop_date,axis = 0,inplace = True)"
   ]
  },
  {
   "cell_type": "code",
   "execution_count": null,
   "metadata": {},
   "outputs": [],
   "source": []
  },
  {
   "cell_type": "markdown",
   "metadata": {},
   "source": [
    "### 201904~202005 까지의 데이터는 갯수를 맞춰서 잘라준 듯하다.\n",
    "\n",
    "### 기본적인 NaN값, 중복값 조회 및 수정"
   ]
  },
  {
   "cell_type": "code",
   "execution_count": 7,
   "metadata": {},
   "outputs": [],
   "source": [
    "temp201904.drop(['할부개월수'],axis = 1,inplace = True)\n",
    "temp201905.drop(['할부개월수'],axis = 1,inplace = True)"
   ]
  },
  {
   "cell_type": "markdown",
   "metadata": {},
   "source": [
    "# 매출금액 예상\n",
    "> 기대효과 : 매출금액 예상이 높은 사람에게 더 좋은 카드, 더 좋은 혜택을 통해 기존 회원들의 이탈을 방지할 수 있음.\n",
    "\n",
    "> 2019년의 데이터를 이용해 2020년의 데이터를 예측할 예정\n",
    "\n",
    "> 19년도 매출금액을 7등급으로 나누고 replace\n",
    "\n",
    "> 해당 데이터 내에서 train,test 로 나눠 정확도 값 확인\n",
    "\n",
    "> 적절한 정확도가 나오면 이후 20년도 에 적용\n",
    "\n",
    "> 같은 feature 들로 20년도 데이터에도 정확도 확인"
   ]
  },
  {
   "cell_type": "code",
   "execution_count": 8,
   "metadata": {},
   "outputs": [],
   "source": [
    "temp_19 = pd.concat((temp201904,temp201905), axis = 0)\n",
    "temp_20 = pd.concat((temp202004,temp202005), axis = 0)"
   ]
  },
  {
   "cell_type": "code",
   "execution_count": 9,
   "metadata": {},
   "outputs": [],
   "source": [
    "temp_19.reset_index(drop=True,inplace = True)\n",
    "temp_20.reset_index(drop=True,inplace = True)"
   ]
  },
  {
   "cell_type": "code",
   "execution_count": 10,
   "metadata": {},
   "outputs": [],
   "source": [
    "sex = {'M':0,\"F\":1}\n",
    "temp_19.replace(sex, inplace = True)\n",
    "temp_20.replace(sex, inplace = True)"
   ]
  },
  {
   "cell_type": "markdown",
   "metadata": {},
   "source": [
    "### 19년도 카드데이터에서 중복값 확인"
   ]
  },
  {
   "cell_type": "code",
   "execution_count": 11,
   "metadata": {},
   "outputs": [
    {
     "data": {
      "text/html": [
       "<div>\n",
       "<style scoped>\n",
       "    .dataframe tbody tr th:only-of-type {\n",
       "        vertical-align: middle;\n",
       "    }\n",
       "\n",
       "    .dataframe tbody tr th {\n",
       "        vertical-align: top;\n",
       "    }\n",
       "\n",
       "    .dataframe thead th {\n",
       "        text-align: right;\n",
       "    }\n",
       "</style>\n",
       "<table border=\"1\" class=\"dataframe\">\n",
       "  <thead>\n",
       "    <tr style=\"text-align: right;\">\n",
       "      <th></th>\n",
       "      <th>기준일자</th>\n",
       "      <th>가맹점신우편번호</th>\n",
       "      <th>고객신우편번호</th>\n",
       "      <th>생년</th>\n",
       "      <th>연령대코드</th>\n",
       "      <th>성별코드</th>\n",
       "      <th>매출구분코드</th>\n",
       "      <th>가맹점업종코드</th>\n",
       "      <th>매출금액</th>\n",
       "    </tr>\n",
       "  </thead>\n",
       "  <tbody>\n",
       "    <tr>\n",
       "      <th>26113</th>\n",
       "      <td>20190401</td>\n",
       "      <td>8393</td>\n",
       "      <td>12104</td>\n",
       "      <td>1977</td>\n",
       "      <td>40</td>\n",
       "      <td>1</td>\n",
       "      <td>5</td>\n",
       "      <td>4076</td>\n",
       "      <td>187735</td>\n",
       "    </tr>\n",
       "    <tr>\n",
       "      <th>26120</th>\n",
       "      <td>20190401</td>\n",
       "      <td>8393</td>\n",
       "      <td>12910</td>\n",
       "      <td>1972</td>\n",
       "      <td>45</td>\n",
       "      <td>0</td>\n",
       "      <td>5</td>\n",
       "      <td>4076</td>\n",
       "      <td>317530</td>\n",
       "    </tr>\n",
       "    <tr>\n",
       "      <th>26121</th>\n",
       "      <td>20190401</td>\n",
       "      <td>8393</td>\n",
       "      <td>12910</td>\n",
       "      <td>1977</td>\n",
       "      <td>40</td>\n",
       "      <td>1</td>\n",
       "      <td>5</td>\n",
       "      <td>4076</td>\n",
       "      <td>289392</td>\n",
       "    </tr>\n",
       "    <tr>\n",
       "      <th>26122</th>\n",
       "      <td>20190401</td>\n",
       "      <td>8393</td>\n",
       "      <td>12910</td>\n",
       "      <td>1981</td>\n",
       "      <td>35</td>\n",
       "      <td>1</td>\n",
       "      <td>5</td>\n",
       "      <td>4076</td>\n",
       "      <td>283328</td>\n",
       "    </tr>\n",
       "    <tr>\n",
       "      <th>26126</th>\n",
       "      <td>20190401</td>\n",
       "      <td>6654</td>\n",
       "      <td>62281</td>\n",
       "      <td>1997</td>\n",
       "      <td>20</td>\n",
       "      <td>0</td>\n",
       "      <td>5</td>\n",
       "      <td>9998</td>\n",
       "      <td>13190</td>\n",
       "    </tr>\n",
       "    <tr>\n",
       "      <th>...</th>\n",
       "      <td>...</td>\n",
       "      <td>...</td>\n",
       "      <td>...</td>\n",
       "      <td>...</td>\n",
       "      <td>...</td>\n",
       "      <td>...</td>\n",
       "      <td>...</td>\n",
       "      <td>...</td>\n",
       "      <td>...</td>\n",
       "    </tr>\n",
       "    <tr>\n",
       "      <th>2097131</th>\n",
       "      <td>20190514</td>\n",
       "      <td>13606</td>\n",
       "      <td>14600</td>\n",
       "      <td>1958</td>\n",
       "      <td>60</td>\n",
       "      <td>1</td>\n",
       "      <td>5</td>\n",
       "      <td>9153</td>\n",
       "      <td>101500</td>\n",
       "    </tr>\n",
       "    <tr>\n",
       "      <th>2097133</th>\n",
       "      <td>20190514</td>\n",
       "      <td>13606</td>\n",
       "      <td>14600</td>\n",
       "      <td>1966</td>\n",
       "      <td>50</td>\n",
       "      <td>0</td>\n",
       "      <td>5</td>\n",
       "      <td>9153</td>\n",
       "      <td>84990</td>\n",
       "    </tr>\n",
       "    <tr>\n",
       "      <th>2097134</th>\n",
       "      <td>20190514</td>\n",
       "      <td>13606</td>\n",
       "      <td>14600</td>\n",
       "      <td>1967</td>\n",
       "      <td>50</td>\n",
       "      <td>1</td>\n",
       "      <td>5</td>\n",
       "      <td>9153</td>\n",
       "      <td>90473</td>\n",
       "    </tr>\n",
       "    <tr>\n",
       "      <th>2097139</th>\n",
       "      <td>20190514</td>\n",
       "      <td>13606</td>\n",
       "      <td>14613</td>\n",
       "      <td>1974</td>\n",
       "      <td>45</td>\n",
       "      <td>0</td>\n",
       "      <td>5</td>\n",
       "      <td>9153</td>\n",
       "      <td>35254</td>\n",
       "    </tr>\n",
       "    <tr>\n",
       "      <th>2097141</th>\n",
       "      <td>20190514</td>\n",
       "      <td>13606</td>\n",
       "      <td>14613</td>\n",
       "      <td>1979</td>\n",
       "      <td>40</td>\n",
       "      <td>0</td>\n",
       "      <td>5</td>\n",
       "      <td>9153</td>\n",
       "      <td>70040</td>\n",
       "    </tr>\n",
       "  </tbody>\n",
       "</table>\n",
       "<p>394268 rows × 9 columns</p>\n",
       "</div>"
      ],
      "text/plain": [
       "             기준일자  가맹점신우편번호  고객신우편번호    생년  연령대코드  성별코드  매출구분코드  가맹점업종코드  \\\n",
       "26113    20190401      8393    12104  1977     40     1       5     4076   \n",
       "26120    20190401      8393    12910  1972     45     0       5     4076   \n",
       "26121    20190401      8393    12910  1977     40     1       5     4076   \n",
       "26122    20190401      8393    12910  1981     35     1       5     4076   \n",
       "26126    20190401      6654    62281  1997     20     0       5     9998   \n",
       "...           ...       ...      ...   ...    ...   ...     ...      ...   \n",
       "2097131  20190514     13606    14600  1958     60     1       5     9153   \n",
       "2097133  20190514     13606    14600  1966     50     0       5     9153   \n",
       "2097134  20190514     13606    14600  1967     50     1       5     9153   \n",
       "2097139  20190514     13606    14613  1974     45     0       5     9153   \n",
       "2097141  20190514     13606    14613  1979     40     0       5     9153   \n",
       "\n",
       "           매출금액  \n",
       "26113    187735  \n",
       "26120    317530  \n",
       "26121    289392  \n",
       "26122    283328  \n",
       "26126     13190  \n",
       "...         ...  \n",
       "2097131  101500  \n",
       "2097133   84990  \n",
       "2097134   90473  \n",
       "2097139   35254  \n",
       "2097141   70040  \n",
       "\n",
       "[394268 rows x 9 columns]"
      ]
     },
     "execution_count": 11,
     "metadata": {},
     "output_type": "execute_result"
    }
   ],
   "source": [
    "temp_19.loc[temp_19.duplicated(subset=temp_19.columns)]"
   ]
  },
  {
   "cell_type": "code",
   "execution_count": 12,
   "metadata": {},
   "outputs": [
    {
     "data": {
      "text/plain": [
       "기준일자        20190401\n",
       "가맹점신우편번호        8393\n",
       "고객신우편번호        12104\n",
       "생년              1977\n",
       "연령대코드             40\n",
       "성별코드               1\n",
       "매출구분코드             5\n",
       "가맹점업종코드         4076\n",
       "매출금액          187735\n",
       "Name: 26113, dtype: int64"
      ]
     },
     "execution_count": 12,
     "metadata": {},
     "output_type": "execute_result"
    }
   ],
   "source": [
    "temp_19.iloc[26113]"
   ]
  },
  {
   "cell_type": "code",
   "execution_count": 13,
   "metadata": {},
   "outputs": [
    {
     "data": {
      "text/html": [
       "<div>\n",
       "<style scoped>\n",
       "    .dataframe tbody tr th:only-of-type {\n",
       "        vertical-align: middle;\n",
       "    }\n",
       "\n",
       "    .dataframe tbody tr th {\n",
       "        vertical-align: top;\n",
       "    }\n",
       "\n",
       "    .dataframe thead th {\n",
       "        text-align: right;\n",
       "    }\n",
       "</style>\n",
       "<table border=\"1\" class=\"dataframe\">\n",
       "  <thead>\n",
       "    <tr style=\"text-align: right;\">\n",
       "      <th></th>\n",
       "      <th>기준일자</th>\n",
       "      <th>가맹점신우편번호</th>\n",
       "      <th>고객신우편번호</th>\n",
       "      <th>생년</th>\n",
       "      <th>연령대코드</th>\n",
       "      <th>성별코드</th>\n",
       "      <th>매출구분코드</th>\n",
       "      <th>가맹점업종코드</th>\n",
       "      <th>매출금액</th>\n",
       "    </tr>\n",
       "  </thead>\n",
       "  <tbody>\n",
       "  </tbody>\n",
       "</table>\n",
       "</div>"
      ],
      "text/plain": [
       "Empty DataFrame\n",
       "Columns: [기준일자, 가맹점신우편번호, 고객신우편번호, 생년, 연령대코드, 성별코드, 매출구분코드, 가맹점업종코드, 매출금액]\n",
       "Index: []"
      ]
     },
     "execution_count": 13,
     "metadata": {},
     "output_type": "execute_result"
    }
   ],
   "source": [
    "temp_19.loc[(temp_19[temp_19.columns[0]]==20190401) & (temp_19[temp_19.columns[1]]==8393)  & (temp_19[temp_19.columns[2]]==12104)  & (temp_19[temp_19.columns[3]]==1977)  & (temp_19[temp_19.columns[4]]==40)  & (temp_19[temp_19.columns[5]]==0)  & (temp_19[temp_19.columns[6]]==5)  & (temp_19[temp_19.columns[7]]==4076)  & (temp_19[temp_19.columns[8]]==187735)]"
   ]
  },
  {
   "cell_type": "markdown",
   "metadata": {},
   "source": [
    "## 중복데이터가 2097150개 중에서 394268개가 발견됨"
   ]
  },
  {
   "cell_type": "markdown",
   "metadata": {},
   "source": [
    "#### feature 들의 모든 값이 일치할 수 있는 확률이 존재하지만 그럼에도 불구하고 18.8%, 거의 20%에 달하는 데이터가 중복된다는 건 맞춰주기 위해 의도적으로 늘려 놓은 것으로 확인됨"
   ]
  },
  {
   "cell_type": "code",
   "execution_count": 14,
   "metadata": {},
   "outputs": [],
   "source": [
    "temp_19.drop_duplicates(inplace= True)"
   ]
  },
  {
   "cell_type": "code",
   "execution_count": 15,
   "metadata": {},
   "outputs": [],
   "source": [
    "temp_19.reset_index(drop=True,inplace = True)"
   ]
  },
  {
   "cell_type": "code",
   "execution_count": 16,
   "metadata": {},
   "outputs": [
    {
     "data": {
      "text/html": [
       "<div>\n",
       "<style scoped>\n",
       "    .dataframe tbody tr th:only-of-type {\n",
       "        vertical-align: middle;\n",
       "    }\n",
       "\n",
       "    .dataframe tbody tr th {\n",
       "        vertical-align: top;\n",
       "    }\n",
       "\n",
       "    .dataframe thead th {\n",
       "        text-align: right;\n",
       "    }\n",
       "</style>\n",
       "<table border=\"1\" class=\"dataframe\">\n",
       "  <thead>\n",
       "    <tr style=\"text-align: right;\">\n",
       "      <th></th>\n",
       "      <th>기준일자</th>\n",
       "      <th>가맹점신우편번호</th>\n",
       "      <th>고객신우편번호</th>\n",
       "      <th>생년</th>\n",
       "      <th>연령대코드</th>\n",
       "      <th>성별코드</th>\n",
       "      <th>매출구분코드</th>\n",
       "      <th>가맹점업종코드</th>\n",
       "      <th>매출금액</th>\n",
       "    </tr>\n",
       "  </thead>\n",
       "  <tbody>\n",
       "    <tr>\n",
       "      <th>0</th>\n",
       "      <td>20190401</td>\n",
       "      <td>6654</td>\n",
       "      <td>14688</td>\n",
       "      <td>1995</td>\n",
       "      <td>25</td>\n",
       "      <td>0</td>\n",
       "      <td>5</td>\n",
       "      <td>9998</td>\n",
       "      <td>128180</td>\n",
       "    </tr>\n",
       "    <tr>\n",
       "      <th>1</th>\n",
       "      <td>20190401</td>\n",
       "      <td>6654</td>\n",
       "      <td>14688</td>\n",
       "      <td>1998</td>\n",
       "      <td>20</td>\n",
       "      <td>1</td>\n",
       "      <td>5</td>\n",
       "      <td>9998</td>\n",
       "      <td>14620</td>\n",
       "    </tr>\n",
       "    <tr>\n",
       "      <th>2</th>\n",
       "      <td>20190401</td>\n",
       "      <td>6654</td>\n",
       "      <td>14697</td>\n",
       "      <td>1999</td>\n",
       "      <td>20</td>\n",
       "      <td>0</td>\n",
       "      <td>5</td>\n",
       "      <td>9998</td>\n",
       "      <td>32000</td>\n",
       "    </tr>\n",
       "    <tr>\n",
       "      <th>3</th>\n",
       "      <td>20190401</td>\n",
       "      <td>6654</td>\n",
       "      <td>14699</td>\n",
       "      <td>1960</td>\n",
       "      <td>60</td>\n",
       "      <td>1</td>\n",
       "      <td>5</td>\n",
       "      <td>9998</td>\n",
       "      <td>17588</td>\n",
       "    </tr>\n",
       "    <tr>\n",
       "      <th>4</th>\n",
       "      <td>20190401</td>\n",
       "      <td>6654</td>\n",
       "      <td>14699</td>\n",
       "      <td>1990</td>\n",
       "      <td>30</td>\n",
       "      <td>1</td>\n",
       "      <td>5</td>\n",
       "      <td>9998</td>\n",
       "      <td>41463</td>\n",
       "    </tr>\n",
       "    <tr>\n",
       "      <th>...</th>\n",
       "      <td>...</td>\n",
       "      <td>...</td>\n",
       "      <td>...</td>\n",
       "      <td>...</td>\n",
       "      <td>...</td>\n",
       "      <td>...</td>\n",
       "      <td>...</td>\n",
       "      <td>...</td>\n",
       "      <td>...</td>\n",
       "    </tr>\n",
       "    <tr>\n",
       "      <th>1702877</th>\n",
       "      <td>20190514</td>\n",
       "      <td>13606</td>\n",
       "      <td>14619</td>\n",
       "      <td>1976</td>\n",
       "      <td>40</td>\n",
       "      <td>1</td>\n",
       "      <td>5</td>\n",
       "      <td>9153</td>\n",
       "      <td>103467</td>\n",
       "    </tr>\n",
       "    <tr>\n",
       "      <th>1702878</th>\n",
       "      <td>20190514</td>\n",
       "      <td>13606</td>\n",
       "      <td>14620</td>\n",
       "      <td>1964</td>\n",
       "      <td>55</td>\n",
       "      <td>1</td>\n",
       "      <td>5</td>\n",
       "      <td>9153</td>\n",
       "      <td>106097</td>\n",
       "    </tr>\n",
       "    <tr>\n",
       "      <th>1702879</th>\n",
       "      <td>20190514</td>\n",
       "      <td>13606</td>\n",
       "      <td>14621</td>\n",
       "      <td>1958</td>\n",
       "      <td>60</td>\n",
       "      <td>1</td>\n",
       "      <td>5</td>\n",
       "      <td>9153</td>\n",
       "      <td>70097</td>\n",
       "    </tr>\n",
       "    <tr>\n",
       "      <th>1702880</th>\n",
       "      <td>20190514</td>\n",
       "      <td>13606</td>\n",
       "      <td>14633</td>\n",
       "      <td>1994</td>\n",
       "      <td>25</td>\n",
       "      <td>1</td>\n",
       "      <td>5</td>\n",
       "      <td>9153</td>\n",
       "      <td>196167</td>\n",
       "    </tr>\n",
       "    <tr>\n",
       "      <th>1702881</th>\n",
       "      <td>20190514</td>\n",
       "      <td>13606</td>\n",
       "      <td>14636</td>\n",
       "      <td>1991</td>\n",
       "      <td>25</td>\n",
       "      <td>0</td>\n",
       "      <td>5</td>\n",
       "      <td>9153</td>\n",
       "      <td>169020</td>\n",
       "    </tr>\n",
       "  </tbody>\n",
       "</table>\n",
       "<p>1702882 rows × 9 columns</p>\n",
       "</div>"
      ],
      "text/plain": [
       "             기준일자  가맹점신우편번호  고객신우편번호    생년  연령대코드  성별코드  매출구분코드  가맹점업종코드  \\\n",
       "0        20190401      6654    14688  1995     25     0       5     9998   \n",
       "1        20190401      6654    14688  1998     20     1       5     9998   \n",
       "2        20190401      6654    14697  1999     20     0       5     9998   \n",
       "3        20190401      6654    14699  1960     60     1       5     9998   \n",
       "4        20190401      6654    14699  1990     30     1       5     9998   \n",
       "...           ...       ...      ...   ...    ...   ...     ...      ...   \n",
       "1702877  20190514     13606    14619  1976     40     1       5     9153   \n",
       "1702878  20190514     13606    14620  1964     55     1       5     9153   \n",
       "1702879  20190514     13606    14621  1958     60     1       5     9153   \n",
       "1702880  20190514     13606    14633  1994     25     1       5     9153   \n",
       "1702881  20190514     13606    14636  1991     25     0       5     9153   \n",
       "\n",
       "           매출금액  \n",
       "0        128180  \n",
       "1         14620  \n",
       "2         32000  \n",
       "3         17588  \n",
       "4         41463  \n",
       "...         ...  \n",
       "1702877  103467  \n",
       "1702878  106097  \n",
       "1702879   70097  \n",
       "1702880  196167  \n",
       "1702881  169020  \n",
       "\n",
       "[1702882 rows x 9 columns]"
      ]
     },
     "execution_count": 16,
     "metadata": {},
     "output_type": "execute_result"
    }
   ],
   "source": [
    "temp_19"
   ]
  },
  {
   "cell_type": "markdown",
   "metadata": {},
   "source": [
    "#### 2020년 데이터에는 중복값이 하나도 발견되지 않음. 2019년데이터를 2020년 데이터에 맞춰주기 위해 의도적으로 늘린 것 같다는 의심이 거의 확실시됨"
   ]
  },
  {
   "cell_type": "code",
   "execution_count": 17,
   "metadata": {},
   "outputs": [
    {
     "data": {
      "text/html": [
       "<div>\n",
       "<style scoped>\n",
       "    .dataframe tbody tr th:only-of-type {\n",
       "        vertical-align: middle;\n",
       "    }\n",
       "\n",
       "    .dataframe tbody tr th {\n",
       "        vertical-align: top;\n",
       "    }\n",
       "\n",
       "    .dataframe thead th {\n",
       "        text-align: right;\n",
       "    }\n",
       "</style>\n",
       "<table border=\"1\" class=\"dataframe\">\n",
       "  <thead>\n",
       "    <tr style=\"text-align: right;\">\n",
       "      <th></th>\n",
       "      <th>기준일자</th>\n",
       "      <th>가맹점신우편번호</th>\n",
       "      <th>고객신우편번호</th>\n",
       "      <th>생년</th>\n",
       "      <th>연령대코드</th>\n",
       "      <th>성별코드</th>\n",
       "      <th>매출구분코드</th>\n",
       "      <th>가맹점업종코드</th>\n",
       "      <th>할부개월수</th>\n",
       "      <th>매출금액</th>\n",
       "    </tr>\n",
       "  </thead>\n",
       "  <tbody>\n",
       "  </tbody>\n",
       "</table>\n",
       "</div>"
      ],
      "text/plain": [
       "Empty DataFrame\n",
       "Columns: [기준일자, 가맹점신우편번호, 고객신우편번호, 생년, 연령대코드, 성별코드, 매출구분코드, 가맹점업종코드, 할부개월수, 매출금액]\n",
       "Index: []"
      ]
     },
     "execution_count": 17,
     "metadata": {},
     "output_type": "execute_result"
    }
   ],
   "source": [
    "temp_20.loc[temp_20.duplicated(subset=temp_20.columns)]"
   ]
  },
  {
   "cell_type": "code",
   "execution_count": 18,
   "metadata": {},
   "outputs": [],
   "source": [
    "# card 데이터에 합쳐버리기~\n",
    "card_19 = copy.copy(temp_19)\n",
    "card_20 = copy.copy(temp_20)"
   ]
  },
  {
   "cell_type": "code",
   "execution_count": 19,
   "metadata": {},
   "outputs": [],
   "source": [
    "card_19['기준일자'] = card_19['기준일자'].apply(lambda x : x % 10000)\n",
    "card_20['기준일자'] = card_20['기준일자'].apply(lambda x : x % 10000)"
   ]
  },
  {
   "cell_type": "code",
   "execution_count": 20,
   "metadata": {},
   "outputs": [],
   "source": [
    "card_19.rename(columns = {'매출금액':'19매출금액','인구수':'유동인구'},inplace = True)\n",
    "\n",
    "card_20.rename(columns = {'매출금액':'20매출금액','인구수':'유동인구'},inplace = True)"
   ]
  },
  {
   "cell_type": "code",
   "execution_count": 21,
   "metadata": {},
   "outputs": [],
   "source": [
    "card_20.drop(['할부개월수'],axis = 1,inplace = True)"
   ]
  },
  {
   "cell_type": "code",
   "execution_count": 22,
   "metadata": {},
   "outputs": [],
   "source": [
    "card_19.drop(['가맹점신우편번호'],axis = 1, inplace = True)\n",
    "card_20.drop(['가맹점신우편번호'],axis = 1, inplace = True)"
   ]
  },
  {
   "cell_type": "code",
   "execution_count": 23,
   "metadata": {},
   "outputs": [],
   "source": [
    "card_20.drop(card_20[card_20['20매출금액'] == 31115275].index,axis = 0,inplace = True)"
   ]
  },
  {
   "cell_type": "code",
   "execution_count": 24,
   "metadata": {},
   "outputs": [],
   "source": [
    "clustering = sorted(card_20['20매출금액'].tolist())\n",
    "clustering = np.array(clustering)\n",
    "from sklearn.cluster import KMeans\n",
    "km = KMeans(n_clusters=7).fit(clustering.reshape(-1,1))"
   ]
  },
  {
   "cell_type": "code",
   "execution_count": 25,
   "metadata": {},
   "outputs": [],
   "source": [
    "cluster = {}\n",
    "for i in range(len(clustering)):\n",
    "    cluster[clustering[i]] = km.labels_[i]"
   ]
  },
  {
   "cell_type": "code",
   "execution_count": 26,
   "metadata": {},
   "outputs": [],
   "source": [
    "cluster = pd.DataFrame(km.labels_,index=sorted(card_20['20매출금액'].tolist()))\n",
    "\n",
    "cluster.reset_index(inplace = True)\n",
    "\n",
    "cluster.rename(columns={'index':'20매출금액'},inplace = True)"
   ]
  },
  {
   "cell_type": "code",
   "execution_count": 27,
   "metadata": {},
   "outputs": [],
   "source": [
    "cluster.rename(columns={cluster.columns[-1]:'cluster'},inplace = True)"
   ]
  },
  {
   "cell_type": "code",
   "execution_count": 28,
   "metadata": {},
   "outputs": [],
   "source": [
    "card_20.sort_values(['20매출금액'],inplace = True)\n",
    "card_20.reset_index(drop=True,inplace = True)"
   ]
  },
  {
   "cell_type": "code",
   "execution_count": 29,
   "metadata": {},
   "outputs": [],
   "source": [
    "card_20 = pd.concat((card_20,cluster['cluster']),axis = 1)"
   ]
  },
  {
   "cell_type": "code",
   "execution_count": 30,
   "metadata": {},
   "outputs": [
    {
     "data": {
      "text/html": [
       "<div>\n",
       "<style scoped>\n",
       "    .dataframe tbody tr th:only-of-type {\n",
       "        vertical-align: middle;\n",
       "    }\n",
       "\n",
       "    .dataframe tbody tr th {\n",
       "        vertical-align: top;\n",
       "    }\n",
       "\n",
       "    .dataframe thead th {\n",
       "        text-align: right;\n",
       "    }\n",
       "</style>\n",
       "<table border=\"1\" class=\"dataframe\">\n",
       "  <thead>\n",
       "    <tr style=\"text-align: right;\">\n",
       "      <th></th>\n",
       "      <th>기준일자</th>\n",
       "      <th>고객신우편번호</th>\n",
       "      <th>생년</th>\n",
       "      <th>연령대코드</th>\n",
       "      <th>성별코드</th>\n",
       "      <th>매출구분코드</th>\n",
       "      <th>가맹점업종코드</th>\n",
       "      <th>20매출금액</th>\n",
       "      <th>cluster</th>\n",
       "    </tr>\n",
       "  </thead>\n",
       "  <tbody>\n",
       "    <tr>\n",
       "      <th>0</th>\n",
       "      <td>407</td>\n",
       "      <td>15815</td>\n",
       "      <td>1983</td>\n",
       "      <td>35</td>\n",
       "      <td>1</td>\n",
       "      <td>15</td>\n",
       "      <td>4076</td>\n",
       "      <td>-299833</td>\n",
       "      <td>1</td>\n",
       "    </tr>\n",
       "    <tr>\n",
       "      <th>1</th>\n",
       "      <td>403</td>\n",
       "      <td>52349</td>\n",
       "      <td>1985</td>\n",
       "      <td>35</td>\n",
       "      <td>1</td>\n",
       "      <td>19</td>\n",
       "      <td>5123</td>\n",
       "      <td>-274333</td>\n",
       "      <td>1</td>\n",
       "    </tr>\n",
       "    <tr>\n",
       "      <th>2</th>\n",
       "      <td>514</td>\n",
       "      <td>10073</td>\n",
       "      <td>1981</td>\n",
       "      <td>40</td>\n",
       "      <td>1</td>\n",
       "      <td>15</td>\n",
       "      <td>4076</td>\n",
       "      <td>-231170</td>\n",
       "      <td>1</td>\n",
       "    </tr>\n",
       "    <tr>\n",
       "      <th>3</th>\n",
       "      <td>502</td>\n",
       "      <td>5823</td>\n",
       "      <td>1978</td>\n",
       "      <td>40</td>\n",
       "      <td>1</td>\n",
       "      <td>15</td>\n",
       "      <td>4076</td>\n",
       "      <td>-147630</td>\n",
       "      <td>1</td>\n",
       "    </tr>\n",
       "    <tr>\n",
       "      <th>4</th>\n",
       "      <td>407</td>\n",
       "      <td>10111</td>\n",
       "      <td>1979</td>\n",
       "      <td>40</td>\n",
       "      <td>0</td>\n",
       "      <td>15</td>\n",
       "      <td>4076</td>\n",
       "      <td>-141367</td>\n",
       "      <td>1</td>\n",
       "    </tr>\n",
       "    <tr>\n",
       "      <th>...</th>\n",
       "      <td>...</td>\n",
       "      <td>...</td>\n",
       "      <td>...</td>\n",
       "      <td>...</td>\n",
       "      <td>...</td>\n",
       "      <td>...</td>\n",
       "      <td>...</td>\n",
       "      <td>...</td>\n",
       "      <td>...</td>\n",
       "    </tr>\n",
       "    <tr>\n",
       "      <th>1557589</th>\n",
       "      <td>407</td>\n",
       "      <td>21562</td>\n",
       "      <td>1979</td>\n",
       "      <td>40</td>\n",
       "      <td>1</td>\n",
       "      <td>5</td>\n",
       "      <td>4076</td>\n",
       "      <td>9827193</td>\n",
       "      <td>2</td>\n",
       "    </tr>\n",
       "    <tr>\n",
       "      <th>1557590</th>\n",
       "      <td>415</td>\n",
       "      <td>5274</td>\n",
       "      <td>1979</td>\n",
       "      <td>40</td>\n",
       "      <td>0</td>\n",
       "      <td>5</td>\n",
       "      <td>9161</td>\n",
       "      <td>10227507</td>\n",
       "      <td>2</td>\n",
       "    </tr>\n",
       "    <tr>\n",
       "      <th>1557591</th>\n",
       "      <td>410</td>\n",
       "      <td>6547</td>\n",
       "      <td>1980</td>\n",
       "      <td>40</td>\n",
       "      <td>0</td>\n",
       "      <td>5</td>\n",
       "      <td>9911</td>\n",
       "      <td>10463391</td>\n",
       "      <td>2</td>\n",
       "    </tr>\n",
       "    <tr>\n",
       "      <th>1557592</th>\n",
       "      <td>415</td>\n",
       "      <td>5274</td>\n",
       "      <td>1980</td>\n",
       "      <td>40</td>\n",
       "      <td>0</td>\n",
       "      <td>9</td>\n",
       "      <td>9161</td>\n",
       "      <td>10835500</td>\n",
       "      <td>2</td>\n",
       "    </tr>\n",
       "    <tr>\n",
       "      <th>1557593</th>\n",
       "      <td>511</td>\n",
       "      <td>6547</td>\n",
       "      <td>1980</td>\n",
       "      <td>40</td>\n",
       "      <td>0</td>\n",
       "      <td>5</td>\n",
       "      <td>9911</td>\n",
       "      <td>11057251</td>\n",
       "      <td>2</td>\n",
       "    </tr>\n",
       "  </tbody>\n",
       "</table>\n",
       "<p>1557594 rows × 9 columns</p>\n",
       "</div>"
      ],
      "text/plain": [
       "         기준일자  고객신우편번호    생년  연령대코드  성별코드  매출구분코드  가맹점업종코드    20매출금액  cluster\n",
       "0         407    15815  1983     35     1      15     4076   -299833        1\n",
       "1         403    52349  1985     35     1      19     5123   -274333        1\n",
       "2         514    10073  1981     40     1      15     4076   -231170        1\n",
       "3         502     5823  1978     40     1      15     4076   -147630        1\n",
       "4         407    10111  1979     40     0      15     4076   -141367        1\n",
       "...       ...      ...   ...    ...   ...     ...      ...       ...      ...\n",
       "1557589   407    21562  1979     40     1       5     4076   9827193        2\n",
       "1557590   415     5274  1979     40     0       5     9161  10227507        2\n",
       "1557591   410     6547  1980     40     0       5     9911  10463391        2\n",
       "1557592   415     5274  1980     40     0       9     9161  10835500        2\n",
       "1557593   511     6547  1980     40     0       5     9911  11057251        2\n",
       "\n",
       "[1557594 rows x 9 columns]"
      ]
     },
     "execution_count": 30,
     "metadata": {},
     "output_type": "execute_result"
    }
   ],
   "source": [
    "card_20"
   ]
  },
  {
   "cell_type": "code",
   "execution_count": 31,
   "metadata": {},
   "outputs": [
    {
     "data": {
      "text/plain": [
       "<matplotlib.collections.PathCollection at 0x7ff3f843d710>"
      ]
     },
     "execution_count": 31,
     "metadata": {},
     "output_type": "execute_result"
    },
    {
     "data": {
      "image/png": "[encoded data removed]",
      "text/plain": [
       "<Figure size 432x288 with 1 Axes>"
      ]
     },
     "metadata": {
      "needs_background": "light"
     },
     "output_type": "display_data"
    }
   ],
   "source": [
    "plt.scatter(card_20['cluster'].tolist(),card_20['20매출금액'].tolist())"
   ]
  },
  {
   "cell_type": "code",
   "execution_count": 32,
   "metadata": {},
   "outputs": [
    {
     "data": {
      "text/html": [
       "<div>\n",
       "<style scoped>\n",
       "    .dataframe tbody tr th:only-of-type {\n",
       "        vertical-align: middle;\n",
       "    }\n",
       "\n",
       "    .dataframe tbody tr th {\n",
       "        vertical-align: top;\n",
       "    }\n",
       "\n",
       "    .dataframe thead th {\n",
       "        text-align: right;\n",
       "    }\n",
       "</style>\n",
       "<table border=\"1\" class=\"dataframe\">\n",
       "  <thead>\n",
       "    <tr style=\"text-align: right;\">\n",
       "      <th></th>\n",
       "      <th>기준일자</th>\n",
       "      <th>고객신우편번호</th>\n",
       "      <th>생년</th>\n",
       "      <th>연령대코드</th>\n",
       "      <th>성별코드</th>\n",
       "      <th>매출구분코드</th>\n",
       "      <th>가맹점업종코드</th>\n",
       "      <th>19매출금액</th>\n",
       "    </tr>\n",
       "  </thead>\n",
       "  <tbody>\n",
       "    <tr>\n",
       "      <th>0</th>\n",
       "      <td>401</td>\n",
       "      <td>14688</td>\n",
       "      <td>1995</td>\n",
       "      <td>25</td>\n",
       "      <td>0</td>\n",
       "      <td>5</td>\n",
       "      <td>9998</td>\n",
       "      <td>128180</td>\n",
       "    </tr>\n",
       "    <tr>\n",
       "      <th>1</th>\n",
       "      <td>401</td>\n",
       "      <td>14688</td>\n",
       "      <td>1998</td>\n",
       "      <td>20</td>\n",
       "      <td>1</td>\n",
       "      <td>5</td>\n",
       "      <td>9998</td>\n",
       "      <td>14620</td>\n",
       "    </tr>\n",
       "    <tr>\n",
       "      <th>2</th>\n",
       "      <td>401</td>\n",
       "      <td>14697</td>\n",
       "      <td>1999</td>\n",
       "      <td>20</td>\n",
       "      <td>0</td>\n",
       "      <td>5</td>\n",
       "      <td>9998</td>\n",
       "      <td>32000</td>\n",
       "    </tr>\n",
       "    <tr>\n",
       "      <th>3</th>\n",
       "      <td>401</td>\n",
       "      <td>14699</td>\n",
       "      <td>1960</td>\n",
       "      <td>60</td>\n",
       "      <td>1</td>\n",
       "      <td>5</td>\n",
       "      <td>9998</td>\n",
       "      <td>17588</td>\n",
       "    </tr>\n",
       "    <tr>\n",
       "      <th>4</th>\n",
       "      <td>401</td>\n",
       "      <td>14699</td>\n",
       "      <td>1990</td>\n",
       "      <td>30</td>\n",
       "      <td>1</td>\n",
       "      <td>5</td>\n",
       "      <td>9998</td>\n",
       "      <td>41463</td>\n",
       "    </tr>\n",
       "    <tr>\n",
       "      <th>...</th>\n",
       "      <td>...</td>\n",
       "      <td>...</td>\n",
       "      <td>...</td>\n",
       "      <td>...</td>\n",
       "      <td>...</td>\n",
       "      <td>...</td>\n",
       "      <td>...</td>\n",
       "      <td>...</td>\n",
       "    </tr>\n",
       "    <tr>\n",
       "      <th>1702877</th>\n",
       "      <td>514</td>\n",
       "      <td>14619</td>\n",
       "      <td>1976</td>\n",
       "      <td>40</td>\n",
       "      <td>1</td>\n",
       "      <td>5</td>\n",
       "      <td>9153</td>\n",
       "      <td>103467</td>\n",
       "    </tr>\n",
       "    <tr>\n",
       "      <th>1702878</th>\n",
       "      <td>514</td>\n",
       "      <td>14620</td>\n",
       "      <td>1964</td>\n",
       "      <td>55</td>\n",
       "      <td>1</td>\n",
       "      <td>5</td>\n",
       "      <td>9153</td>\n",
       "      <td>106097</td>\n",
       "    </tr>\n",
       "    <tr>\n",
       "      <th>1702879</th>\n",
       "      <td>514</td>\n",
       "      <td>14621</td>\n",
       "      <td>1958</td>\n",
       "      <td>60</td>\n",
       "      <td>1</td>\n",
       "      <td>5</td>\n",
       "      <td>9153</td>\n",
       "      <td>70097</td>\n",
       "    </tr>\n",
       "    <tr>\n",
       "      <th>1702880</th>\n",
       "      <td>514</td>\n",
       "      <td>14633</td>\n",
       "      <td>1994</td>\n",
       "      <td>25</td>\n",
       "      <td>1</td>\n",
       "      <td>5</td>\n",
       "      <td>9153</td>\n",
       "      <td>196167</td>\n",
       "    </tr>\n",
       "    <tr>\n",
       "      <th>1702881</th>\n",
       "      <td>514</td>\n",
       "      <td>14636</td>\n",
       "      <td>1991</td>\n",
       "      <td>25</td>\n",
       "      <td>0</td>\n",
       "      <td>5</td>\n",
       "      <td>9153</td>\n",
       "      <td>169020</td>\n",
       "    </tr>\n",
       "  </tbody>\n",
       "</table>\n",
       "<p>1702882 rows × 8 columns</p>\n",
       "</div>"
      ],
      "text/plain": [
       "         기준일자  고객신우편번호    생년  연령대코드  성별코드  매출구분코드  가맹점업종코드  19매출금액\n",
       "0         401    14688  1995     25     0       5     9998  128180\n",
       "1         401    14688  1998     20     1       5     9998   14620\n",
       "2         401    14697  1999     20     0       5     9998   32000\n",
       "3         401    14699  1960     60     1       5     9998   17588\n",
       "4         401    14699  1990     30     1       5     9998   41463\n",
       "...       ...      ...   ...    ...   ...     ...      ...     ...\n",
       "1702877   514    14619  1976     40     1       5     9153  103467\n",
       "1702878   514    14620  1964     55     1       5     9153  106097\n",
       "1702879   514    14621  1958     60     1       5     9153   70097\n",
       "1702880   514    14633  1994     25     1       5     9153  196167\n",
       "1702881   514    14636  1991     25     0       5     9153  169020\n",
       "\n",
       "[1702882 rows x 8 columns]"
      ]
     },
     "execution_count": 32,
     "metadata": {},
     "output_type": "execute_result"
    }
   ],
   "source": [
    "card_19"
   ]
  },
  {
   "cell_type": "code",
   "execution_count": 43,
   "metadata": {},
   "outputs": [
    {
     "data": {
      "text/html": [
       "<div>\n",
       "<style scoped>\n",
       "    .dataframe tbody tr th:only-of-type {\n",
       "        vertical-align: middle;\n",
       "    }\n",
       "\n",
       "    .dataframe tbody tr th {\n",
       "        vertical-align: top;\n",
       "    }\n",
       "\n",
       "    .dataframe thead th {\n",
       "        text-align: right;\n",
       "    }\n",
       "</style>\n",
       "<table border=\"1\" class=\"dataframe\">\n",
       "  <thead>\n",
       "    <tr style=\"text-align: right;\">\n",
       "      <th></th>\n",
       "      <th>기준일자</th>\n",
       "      <th>고객신우편번호</th>\n",
       "      <th>생년</th>\n",
       "      <th>연령대코드</th>\n",
       "      <th>성별코드</th>\n",
       "      <th>매출구분코드</th>\n",
       "      <th>가맹점업종코드</th>\n",
       "      <th>20매출금액</th>\n",
       "      <th>cluster</th>\n",
       "    </tr>\n",
       "  </thead>\n",
       "  <tbody>\n",
       "    <tr>\n",
       "      <th>0</th>\n",
       "      <td>407</td>\n",
       "      <td>15815</td>\n",
       "      <td>1983</td>\n",
       "      <td>35</td>\n",
       "      <td>1</td>\n",
       "      <td>15</td>\n",
       "      <td>4076</td>\n",
       "      <td>-299833</td>\n",
       "      <td>1</td>\n",
       "    </tr>\n",
       "    <tr>\n",
       "      <th>1</th>\n",
       "      <td>403</td>\n",
       "      <td>52349</td>\n",
       "      <td>1985</td>\n",
       "      <td>35</td>\n",
       "      <td>1</td>\n",
       "      <td>19</td>\n",
       "      <td>5123</td>\n",
       "      <td>-274333</td>\n",
       "      <td>1</td>\n",
       "    </tr>\n",
       "    <tr>\n",
       "      <th>2</th>\n",
       "      <td>514</td>\n",
       "      <td>10073</td>\n",
       "      <td>1981</td>\n",
       "      <td>40</td>\n",
       "      <td>1</td>\n",
       "      <td>15</td>\n",
       "      <td>4076</td>\n",
       "      <td>-231170</td>\n",
       "      <td>1</td>\n",
       "    </tr>\n",
       "    <tr>\n",
       "      <th>3</th>\n",
       "      <td>502</td>\n",
       "      <td>5823</td>\n",
       "      <td>1978</td>\n",
       "      <td>40</td>\n",
       "      <td>1</td>\n",
       "      <td>15</td>\n",
       "      <td>4076</td>\n",
       "      <td>-147630</td>\n",
       "      <td>1</td>\n",
       "    </tr>\n",
       "    <tr>\n",
       "      <th>4</th>\n",
       "      <td>407</td>\n",
       "      <td>10111</td>\n",
       "      <td>1979</td>\n",
       "      <td>40</td>\n",
       "      <td>0</td>\n",
       "      <td>15</td>\n",
       "      <td>4076</td>\n",
       "      <td>-141367</td>\n",
       "      <td>1</td>\n",
       "    </tr>\n",
       "    <tr>\n",
       "      <th>...</th>\n",
       "      <td>...</td>\n",
       "      <td>...</td>\n",
       "      <td>...</td>\n",
       "      <td>...</td>\n",
       "      <td>...</td>\n",
       "      <td>...</td>\n",
       "      <td>...</td>\n",
       "      <td>...</td>\n",
       "      <td>...</td>\n",
       "    </tr>\n",
       "    <tr>\n",
       "      <th>1557589</th>\n",
       "      <td>407</td>\n",
       "      <td>21562</td>\n",
       "      <td>1979</td>\n",
       "      <td>40</td>\n",
       "      <td>1</td>\n",
       "      <td>5</td>\n",
       "      <td>4076</td>\n",
       "      <td>9827193</td>\n",
       "      <td>2</td>\n",
       "    </tr>\n",
       "    <tr>\n",
       "      <th>1557590</th>\n",
       "      <td>415</td>\n",
       "      <td>5274</td>\n",
       "      <td>1979</td>\n",
       "      <td>40</td>\n",
       "      <td>0</td>\n",
       "      <td>5</td>\n",
       "      <td>9161</td>\n",
       "      <td>10227507</td>\n",
       "      <td>2</td>\n",
       "    </tr>\n",
       "    <tr>\n",
       "      <th>1557591</th>\n",
       "      <td>410</td>\n",
       "      <td>6547</td>\n",
       "      <td>1980</td>\n",
       "      <td>40</td>\n",
       "      <td>0</td>\n",
       "      <td>5</td>\n",
       "      <td>9911</td>\n",
       "      <td>10463391</td>\n",
       "      <td>2</td>\n",
       "    </tr>\n",
       "    <tr>\n",
       "      <th>1557592</th>\n",
       "      <td>415</td>\n",
       "      <td>5274</td>\n",
       "      <td>1980</td>\n",
       "      <td>40</td>\n",
       "      <td>0</td>\n",
       "      <td>9</td>\n",
       "      <td>9161</td>\n",
       "      <td>10835500</td>\n",
       "      <td>2</td>\n",
       "    </tr>\n",
       "    <tr>\n",
       "      <th>1557593</th>\n",
       "      <td>511</td>\n",
       "      <td>6547</td>\n",
       "      <td>1980</td>\n",
       "      <td>40</td>\n",
       "      <td>0</td>\n",
       "      <td>5</td>\n",
       "      <td>9911</td>\n",
       "      <td>11057251</td>\n",
       "      <td>2</td>\n",
       "    </tr>\n",
       "  </tbody>\n",
       "</table>\n",
       "<p>1557594 rows × 9 columns</p>\n",
       "</div>"
      ],
      "text/plain": [
       "         기준일자  고객신우편번호    생년  연령대코드  성별코드  매출구분코드  가맹점업종코드    20매출금액  cluster\n",
       "0         407    15815  1983     35     1      15     4076   -299833        1\n",
       "1         403    52349  1985     35     1      19     5123   -274333        1\n",
       "2         514    10073  1981     40     1      15     4076   -231170        1\n",
       "3         502     5823  1978     40     1      15     4076   -147630        1\n",
       "4         407    10111  1979     40     0      15     4076   -141367        1\n",
       "...       ...      ...   ...    ...   ...     ...      ...       ...      ...\n",
       "1557589   407    21562  1979     40     1       5     4076   9827193        2\n",
       "1557590   415     5274  1979     40     0       5     9161  10227507        2\n",
       "1557591   410     6547  1980     40     0       5     9911  10463391        2\n",
       "1557592   415     5274  1980     40     0       9     9161  10835500        2\n",
       "1557593   511     6547  1980     40     0       5     9911  11057251        2\n",
       "\n",
       "[1557594 rows x 9 columns]"
      ]
     },
     "execution_count": 43,
     "metadata": {},
     "output_type": "execute_result"
    }
   ],
   "source": [
    "card_20"
   ]
  },
  {
   "cell_type": "code",
   "execution_count": 34,
   "metadata": {},
   "outputs": [],
   "source": [
    "card = pd.merge(card_19,card_20, on = ['기준일자','고객신우편번호','연령대코드','성별코드','가맹점업종코드'])"
   ]
  },
  {
   "cell_type": "code",
   "execution_count": 35,
   "metadata": {},
   "outputs": [],
   "source": [
    "# 최종 모양\n",
    "card.drop(['20매출금액'],axis = 1,inplace = True)\n",
    "card.drop(['생년_x','매출구분코드_x','생년_y','매출구분코드_y'],axis = 1,inplace = True)"
   ]
  },
  {
   "cell_type": "code",
   "execution_count": 37,
   "metadata": {},
   "outputs": [],
   "source": [
    "card.sort_values('cluster',inplace = True)"
   ]
  },
  {
   "cell_type": "code",
   "execution_count": 39,
   "metadata": {},
   "outputs": [],
   "source": [
    "card.reset_index(drop=True,inplace = True)"
   ]
  },
  {
   "cell_type": "code",
   "execution_count": 40,
   "metadata": {},
   "outputs": [
    {
     "data": {
      "text/html": [
       "<div>\n",
       "<style scoped>\n",
       "    .dataframe tbody tr th:only-of-type {\n",
       "        vertical-align: middle;\n",
       "    }\n",
       "\n",
       "    .dataframe tbody tr th {\n",
       "        vertical-align: top;\n",
       "    }\n",
       "\n",
       "    .dataframe thead th {\n",
       "        text-align: right;\n",
       "    }\n",
       "</style>\n",
       "<table border=\"1\" class=\"dataframe\">\n",
       "  <thead>\n",
       "    <tr style=\"text-align: right;\">\n",
       "      <th></th>\n",
       "      <th>기준일자</th>\n",
       "      <th>고객신우편번호</th>\n",
       "      <th>연령대코드</th>\n",
       "      <th>성별코드</th>\n",
       "      <th>가맹점업종코드</th>\n",
       "      <th>19매출금액</th>\n",
       "      <th>cluster</th>\n",
       "    </tr>\n",
       "  </thead>\n",
       "  <tbody>\n",
       "    <tr>\n",
       "      <th>0</th>\n",
       "      <td>410</td>\n",
       "      <td>48046</td>\n",
       "      <td>55</td>\n",
       "      <td>1</td>\n",
       "      <td>9998</td>\n",
       "      <td>28850</td>\n",
       "      <td>0</td>\n",
       "    </tr>\n",
       "    <tr>\n",
       "      <th>1</th>\n",
       "      <td>407</td>\n",
       "      <td>30100</td>\n",
       "      <td>45</td>\n",
       "      <td>0</td>\n",
       "      <td>4004</td>\n",
       "      <td>64653</td>\n",
       "      <td>0</td>\n",
       "    </tr>\n",
       "    <tr>\n",
       "      <th>2</th>\n",
       "      <td>407</td>\n",
       "      <td>30100</td>\n",
       "      <td>45</td>\n",
       "      <td>0</td>\n",
       "      <td>4004</td>\n",
       "      <td>64653</td>\n",
       "      <td>0</td>\n",
       "    </tr>\n",
       "    <tr>\n",
       "      <th>3</th>\n",
       "      <td>407</td>\n",
       "      <td>30100</td>\n",
       "      <td>45</td>\n",
       "      <td>0</td>\n",
       "      <td>4004</td>\n",
       "      <td>64653</td>\n",
       "      <td>0</td>\n",
       "    </tr>\n",
       "    <tr>\n",
       "      <th>4</th>\n",
       "      <td>407</td>\n",
       "      <td>30100</td>\n",
       "      <td>45</td>\n",
       "      <td>0</td>\n",
       "      <td>4004</td>\n",
       "      <td>64653</td>\n",
       "      <td>0</td>\n",
       "    </tr>\n",
       "    <tr>\n",
       "      <th>...</th>\n",
       "      <td>...</td>\n",
       "      <td>...</td>\n",
       "      <td>...</td>\n",
       "      <td>...</td>\n",
       "      <td>...</td>\n",
       "      <td>...</td>\n",
       "      <td>...</td>\n",
       "    </tr>\n",
       "    <tr>\n",
       "      <th>724820</th>\n",
       "      <td>414</td>\n",
       "      <td>46726</td>\n",
       "      <td>40</td>\n",
       "      <td>1</td>\n",
       "      <td>4076</td>\n",
       "      <td>38927</td>\n",
       "      <td>6</td>\n",
       "    </tr>\n",
       "    <tr>\n",
       "      <th>724821</th>\n",
       "      <td>513</td>\n",
       "      <td>46726</td>\n",
       "      <td>40</td>\n",
       "      <td>1</td>\n",
       "      <td>4076</td>\n",
       "      <td>40767</td>\n",
       "      <td>6</td>\n",
       "    </tr>\n",
       "    <tr>\n",
       "      <th>724822</th>\n",
       "      <td>513</td>\n",
       "      <td>46726</td>\n",
       "      <td>40</td>\n",
       "      <td>1</td>\n",
       "      <td>4076</td>\n",
       "      <td>67343</td>\n",
       "      <td>6</td>\n",
       "    </tr>\n",
       "    <tr>\n",
       "      <th>724823</th>\n",
       "      <td>513</td>\n",
       "      <td>46726</td>\n",
       "      <td>40</td>\n",
       "      <td>1</td>\n",
       "      <td>4076</td>\n",
       "      <td>88930</td>\n",
       "      <td>6</td>\n",
       "    </tr>\n",
       "    <tr>\n",
       "      <th>724824</th>\n",
       "      <td>504</td>\n",
       "      <td>5698</td>\n",
       "      <td>40</td>\n",
       "      <td>1</td>\n",
       "      <td>4076</td>\n",
       "      <td>69767</td>\n",
       "      <td>6</td>\n",
       "    </tr>\n",
       "  </tbody>\n",
       "</table>\n",
       "<p>724825 rows × 7 columns</p>\n",
       "</div>"
      ],
      "text/plain": [
       "        기준일자  고객신우편번호  연령대코드  성별코드  가맹점업종코드  19매출금액  cluster\n",
       "0        410    48046     55     1     9998   28850        0\n",
       "1        407    30100     45     0     4004   64653        0\n",
       "2        407    30100     45     0     4004   64653        0\n",
       "3        407    30100     45     0     4004   64653        0\n",
       "4        407    30100     45     0     4004   64653        0\n",
       "...      ...      ...    ...   ...      ...     ...      ...\n",
       "724820   414    46726     40     1     4076   38927        6\n",
       "724821   513    46726     40     1     4076   40767        6\n",
       "724822   513    46726     40     1     4076   67343        6\n",
       "724823   513    46726     40     1     4076   88930        6\n",
       "724824   504     5698     40     1     4076   69767        6\n",
       "\n",
       "[724825 rows x 7 columns]"
      ]
     },
     "execution_count": 40,
     "metadata": {},
     "output_type": "execute_result"
    }
   ],
   "source": [
    "card"
   ]
  },
  {
   "cell_type": "code",
   "execution_count": 41,
   "metadata": {},
   "outputs": [
    {
     "data": {
      "text/plain": [
       "1    573279\n",
       "0    138521\n",
       "4     11870\n",
       "3      1081\n",
       "5        63\n",
       "6        11\n",
       "Name: cluster, dtype: int64"
      ]
     },
     "execution_count": 41,
     "metadata": {},
     "output_type": "execute_result"
    }
   ],
   "source": [
    "card['cluster'].value_counts()"
   ]
  },
  {
   "cell_type": "code",
   "execution_count": 95,
   "metadata": {},
   "outputs": [],
   "source": [
    "X,y = [card[card.columns[:-1]],card[card.columns[-1]]]"
   ]
  },
  {
   "cell_type": "code",
   "execution_count": 96,
   "metadata": {},
   "outputs": [],
   "source": [
    "from sklearn.model_selection import train_test_split\n",
    "X_train,X_test,y_train,y_test = train_test_split(X,y,test_size = 0.1,random_state = 42)\n",
    "\n",
    "from sklearn.ensemble import RandomForestClassifier\n",
    "rf = RandomForestClassifier().fit(X_train,y_train)"
   ]
  },
  {
   "cell_type": "code",
   "execution_count": 97,
   "metadata": {},
   "outputs": [
    {
     "data": {
      "text/plain": [
       "0.7987804036808631"
      ]
     },
     "execution_count": 97,
     "metadata": {},
     "output_type": "execute_result"
    }
   ],
   "source": [
    "rf.score(X_test,y_test)"
   ]
  },
  {
   "cell_type": "code",
   "execution_count": 98,
   "metadata": {},
   "outputs": [
    {
     "data": {
      "text/plain": [
       "array([0.11470782, 0.2284601 , 0.10158994, 0.03761314, 0.18574699,\n",
       "       0.331882  ])"
      ]
     },
     "execution_count": 98,
     "metadata": {},
     "output_type": "execute_result"
    }
   ],
   "source": [
    "rf.feature_importances_"
   ]
  },
  {
   "cell_type": "code",
   "execution_count": 99,
   "metadata": {},
   "outputs": [
    {
     "data": {
      "text/plain": [
       "<BarContainer object of 6 artists>"
      ]
     },
     "execution_count": 99,
     "metadata": {},
     "output_type": "execute_result"
    },
    {
     "data": {
      "image/png": "[encoded data removed]",
      "text/plain": [
       "<Figure size 432x288 with 1 Axes>"
      ]
     },
     "metadata": {
      "needs_background": "light"
     },
     "output_type": "display_data"
    }
   ],
   "source": [
    "plt.barh(X.columns.tolist(),rf.feature_importances_)"
   ]
  },
  {
   "cell_type": "markdown",
   "metadata": {},
   "source": [
    "# 교차검증"
   ]
  },
  {
   "cell_type": "code",
   "execution_count": 100,
   "metadata": {},
   "outputs": [],
   "source": [
    "import sklearn\n",
    "card = sklearn.utils.shuffle(card)"
   ]
  },
  {
   "cell_type": "code",
   "execution_count": 101,
   "metadata": {},
   "outputs": [],
   "source": [
    "X,y = [card[card.columns[:-1]],card[card.columns[-1]]]"
   ]
  },
  {
   "cell_type": "code",
   "execution_count": 102,
   "metadata": {},
   "outputs": [],
   "source": [
    "from sklearn.ensemble import RandomForestClassifier\n",
    "rf = RandomForestClassifier().fit(X,y)"
   ]
  },
  {
   "cell_type": "code",
   "execution_count": 103,
   "metadata": {},
   "outputs": [
    {
     "data": {
      "text/plain": [
       "array([0.79915152, 0.79827545, 0.79762701, 0.79778567, 0.79906874])"
      ]
     },
     "execution_count": 103,
     "metadata": {},
     "output_type": "execute_result"
    }
   ],
   "source": [
    "from sklearn.model_selection import cross_val_score\n",
    "cross_val_score(rf,X,y,cv = 5)"
   ]
  },
  {
   "cell_type": "code",
   "execution_count": 104,
   "metadata": {},
   "outputs": [],
   "source": [
    "from sklearn.model_selection import cross_val_predict\n",
    "y_predict = cross_val_predict(rf,X,y,cv=3)"
   ]
  },
  {
   "cell_type": "code",
   "execution_count": 105,
   "metadata": {},
   "outputs": [
    {
     "data": {
      "text/plain": [
       "array([[ 61661,     13,      0,   1979,  74880,    133],\n",
       "       [    36,      0,      0,      5,     21,      1],\n",
       "       [     3,      0,      0,      1,      7,      0],\n",
       "       [  5869,      6,      0,   1084,   4888,     29],\n",
       "       [ 55952,      6,      0,   1578, 515499,     93],\n",
       "       [   577,      2,      0,     35,    349,    118]])"
      ]
     },
     "execution_count": 105,
     "metadata": {},
     "output_type": "execute_result"
    }
   ],
   "source": [
    "from sklearn.metrics import confusion_matrix\n",
    "confusion_matrix(y,y_predict)"
   ]
  },
  {
   "cell_type": "code",
   "execution_count": null,
   "metadata": {},
   "outputs": [],
   "source": []
  },
  {
   "cell_type": "code",
   "execution_count": null,
   "metadata": {},
   "outputs": [],
   "source": []
  }
 ],
 "metadata": {
  "kernelspec": {
   "display_name": "Python 3",
   "language": "python",
   "name": "python3"
  },
  "language_info": {
   "codemirror_mode": {
    "name": "ipython",
    "version": 3
   },
   "file_extension": ".py",
   "mimetype": "text/x-python",
   "name": "python",
   "nbconvert_exporter": "python",
   "pygments_lexer": "ipython3",
   "version": "3.6.10"
  }
 },
 "nbformat": 4,
 "nbformat_minor": 4
}

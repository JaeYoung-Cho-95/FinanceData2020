{
 "cells": [
  {
   "cell_type": "code",
   "execution_count": 1,
   "metadata": {},
   "outputs": [],
   "source": [
    "import pandas as pd\n",
    "import numpy as np\n",
    "import matplotlib as mpl\n",
    "import matplotlib.pyplot as plt\n",
    "import copy\n",
    "%matplotlib inline\n",
    "from sklearn import preprocessing"
   ]
  },
  {
   "cell_type": "code",
   "execution_count": 2,
   "metadata": {},
   "outputs": [],
   "source": [
    "import warnings\n",
    "warnings.filterwarnings(action='ignore')"
   ]
  },
  {
   "cell_type": "code",
   "execution_count": 3,
   "metadata": {},
   "outputs": [],
   "source": [
    "plt.rc('font', family='AppleGothic')\n",
    "plt.rcParams['axes.unicode_minus']=False"
   ]
  },
  {
   "cell_type": "code",
   "execution_count": 4,
   "metadata": {},
   "outputs": [],
   "source": [
    "temp201904 = pd.read_csv(\"/Users/jaeyoungcho/Desktop/2020 금융 빅데이터 챌린지-공모전데이터/데이터/비씨카드/거래내역_201904.csv\", sep=\",\", encoding=\"CP949\")\n",
    "temp201905 = pd.read_csv(\"/Users/jaeyoungcho/Desktop/2020 금융 빅데이터 챌린지-공모전데이터/데이터/비씨카드/거래내역_201905.csv\", sep=\",\", encoding=\"CP949\")\n",
    "temp202004 = pd.read_csv(\"/Users/jaeyoungcho/Desktop/2020 금융 빅데이터 챌린지-공모전데이터/데이터/비씨카드/거래내역_202004.csv\", sep=\",\", encoding=\"CP949\")\n",
    "temp202005 = pd.read_csv(\"/Users/jaeyoungcho/Desktop/2020 금융 빅데이터 챌린지-공모전데이터/데이터/비씨카드/거래내역_202005.csv\", sep=\",\", encoding=\"CP949\")\n",
    "\n",
    "job = pd.read_csv(\"/Users/jaeyoungcho/Desktop/2020 금융 빅데이터 챌린지-공모전데이터/데이터/비씨카드/공통코드.csv\", sep=\",\", encoding=\"CP949\")\n"
   ]
  },
  {
   "cell_type": "code",
   "execution_count": 5,
   "metadata": {},
   "outputs": [],
   "source": [
    "# 2019년 4월 데이터에 16일까지 밖에 없어서 2020년 4월 17일 이상 드롭\n",
    "drop_date = temp202004[temp202004['기준일자'] >= 20200417].index.tolist()\n",
    "temp202004.drop(drop_date,axis = 0,inplace = True)"
   ]
  },
  {
   "cell_type": "code",
   "execution_count": 6,
   "metadata": {},
   "outputs": [],
   "source": [
    "# 2019년 5월 데이터에 14일까지 밖에 없어서 2020년 5월 15일 이상 드롭\n",
    "drop_date = temp202005[temp202005['기준일자'] >= 20200515].index.tolist()\n",
    "temp202005.drop(drop_date,axis = 0,inplace = True)"
   ]
  },
  {
   "cell_type": "code",
   "execution_count": null,
   "metadata": {},
   "outputs": [],
   "source": []
  },
  {
   "cell_type": "markdown",
   "metadata": {},
   "source": [
    "### 201904~202005 까지의 데이터는 갯수를 맞춰서 잘라준 듯하다.\n",
    "\n",
    "### 기본적인 NaN값, 중복값 조회 및 수정"
   ]
  },
  {
   "cell_type": "code",
   "execution_count": 7,
   "metadata": {},
   "outputs": [],
   "source": [
    "temp201904.drop(['할부개월수'],axis = 1,inplace = True)\n",
    "temp201905.drop(['할부개월수'],axis = 1,inplace = True)"
   ]
  },
  {
   "cell_type": "markdown",
   "metadata": {},
   "source": [
    "# 매출금액 예상\n",
    "> 기대효과 : 매출금액 예출 높은 사람에게 더 좋은 카드, 더 좋은 혜택을 통해 기존 회원들의 이탈을 방지할 수 있음.\n",
    "\n",
    "> 2019년의 데이터를 이용해 2020년의 데이터를 예측할 예정\n",
    "\n",
    "> 19년도 매출금액을 7등급으로 나누고 replace\n",
    "\n",
    "> 해당 데이터 내에서 train,test 로 나눠 정확도 값 확인\n",
    "\n",
    "> 적절한 정확도가 나오면 이후 20년도 에 적용\n",
    "\n",
    "> 같은 feature 들로 20년도 데이터에도 정확도 확인"
   ]
  },
  {
   "cell_type": "code",
   "execution_count": 8,
   "metadata": {},
   "outputs": [],
   "source": [
    "temp_19 = pd.concat((temp201904,temp201905), axis = 0)\n",
    "temp_20 = pd.concat((temp202004,temp202005), axis = 0)"
   ]
  },
  {
   "cell_type": "code",
   "execution_count": 9,
   "metadata": {},
   "outputs": [],
   "source": [
    "temp_19.reset_index(drop=True,inplace = True)\n",
    "temp_20.reset_index(drop=True,inplace = True)"
   ]
  },
  {
   "cell_type": "code",
   "execution_count": 10,
   "metadata": {},
   "outputs": [],
   "source": [
    "sex = {'M':0,\"F\":1}\n",
    "temp_19.replace(sex, inplace = True)\n",
    "temp_20.replace(sex, inplace = True)"
   ]
  },
  {
   "cell_type": "markdown",
   "metadata": {},
   "source": [
    "### 19년도 카드데이터에서 중복값 확인"
   ]
  },
  {
   "cell_type": "code",
   "execution_count": 11,
   "metadata": {},
   "outputs": [
    {
     "data": {
      "text/html": [
       "<div>\n",
       "<style scoped>\n",
       "    .dataframe tbody tr th:only-of-type {\n",
       "        vertical-align: middle;\n",
       "    }\n",
       "\n",
       "    .dataframe tbody tr th {\n",
       "        vertical-align: top;\n",
       "    }\n",
       "\n",
       "    .dataframe thead th {\n",
       "        text-align: right;\n",
       "    }\n",
       "</style>\n",
       "<table border=\"1\" class=\"dataframe\">\n",
       "  <thead>\n",
       "    <tr style=\"text-align: right;\">\n",
       "      <th></th>\n",
       "      <th>기준일자</th>\n",
       "      <th>가맹점신우편번호</th>\n",
       "      <th>고객신우편번호</th>\n",
       "      <th>생년</th>\n",
       "      <th>연령대코드</th>\n",
       "      <th>성별코드</th>\n",
       "      <th>매출구분코드</th>\n",
       "      <th>가맹점업종코드</th>\n",
       "      <th>매출금액</th>\n",
       "    </tr>\n",
       "  </thead>\n",
       "  <tbody>\n",
       "    <tr>\n",
       "      <th>26113</th>\n",
       "      <td>20190401</td>\n",
       "      <td>8393</td>\n",
       "      <td>12104</td>\n",
       "      <td>1977</td>\n",
       "      <td>40</td>\n",
       "      <td>1</td>\n",
       "      <td>5</td>\n",
       "      <td>4076</td>\n",
       "      <td>187735</td>\n",
       "    </tr>\n",
       "    <tr>\n",
       "      <th>26120</th>\n",
       "      <td>20190401</td>\n",
       "      <td>8393</td>\n",
       "      <td>12910</td>\n",
       "      <td>1972</td>\n",
       "      <td>45</td>\n",
       "      <td>0</td>\n",
       "      <td>5</td>\n",
       "      <td>4076</td>\n",
       "      <td>317530</td>\n",
       "    </tr>\n",
       "    <tr>\n",
       "      <th>26121</th>\n",
       "      <td>20190401</td>\n",
       "      <td>8393</td>\n",
       "      <td>12910</td>\n",
       "      <td>1977</td>\n",
       "      <td>40</td>\n",
       "      <td>1</td>\n",
       "      <td>5</td>\n",
       "      <td>4076</td>\n",
       "      <td>289392</td>\n",
       "    </tr>\n",
       "    <tr>\n",
       "      <th>26122</th>\n",
       "      <td>20190401</td>\n",
       "      <td>8393</td>\n",
       "      <td>12910</td>\n",
       "      <td>1981</td>\n",
       "      <td>35</td>\n",
       "      <td>1</td>\n",
       "      <td>5</td>\n",
       "      <td>4076</td>\n",
       "      <td>283328</td>\n",
       "    </tr>\n",
       "    <tr>\n",
       "      <th>26126</th>\n",
       "      <td>20190401</td>\n",
       "      <td>6654</td>\n",
       "      <td>62281</td>\n",
       "      <td>1997</td>\n",
       "      <td>20</td>\n",
       "      <td>0</td>\n",
       "      <td>5</td>\n",
       "      <td>9998</td>\n",
       "      <td>13190</td>\n",
       "    </tr>\n",
       "    <tr>\n",
       "      <th>...</th>\n",
       "      <td>...</td>\n",
       "      <td>...</td>\n",
       "      <td>...</td>\n",
       "      <td>...</td>\n",
       "      <td>...</td>\n",
       "      <td>...</td>\n",
       "      <td>...</td>\n",
       "      <td>...</td>\n",
       "      <td>...</td>\n",
       "    </tr>\n",
       "    <tr>\n",
       "      <th>2097131</th>\n",
       "      <td>20190514</td>\n",
       "      <td>13606</td>\n",
       "      <td>14600</td>\n",
       "      <td>1958</td>\n",
       "      <td>60</td>\n",
       "      <td>1</td>\n",
       "      <td>5</td>\n",
       "      <td>9153</td>\n",
       "      <td>101500</td>\n",
       "    </tr>\n",
       "    <tr>\n",
       "      <th>2097133</th>\n",
       "      <td>20190514</td>\n",
       "      <td>13606</td>\n",
       "      <td>14600</td>\n",
       "      <td>1966</td>\n",
       "      <td>50</td>\n",
       "      <td>0</td>\n",
       "      <td>5</td>\n",
       "      <td>9153</td>\n",
       "      <td>84990</td>\n",
       "    </tr>\n",
       "    <tr>\n",
       "      <th>2097134</th>\n",
       "      <td>20190514</td>\n",
       "      <td>13606</td>\n",
       "      <td>14600</td>\n",
       "      <td>1967</td>\n",
       "      <td>50</td>\n",
       "      <td>1</td>\n",
       "      <td>5</td>\n",
       "      <td>9153</td>\n",
       "      <td>90473</td>\n",
       "    </tr>\n",
       "    <tr>\n",
       "      <th>2097139</th>\n",
       "      <td>20190514</td>\n",
       "      <td>13606</td>\n",
       "      <td>14613</td>\n",
       "      <td>1974</td>\n",
       "      <td>45</td>\n",
       "      <td>0</td>\n",
       "      <td>5</td>\n",
       "      <td>9153</td>\n",
       "      <td>35254</td>\n",
       "    </tr>\n",
       "    <tr>\n",
       "      <th>2097141</th>\n",
       "      <td>20190514</td>\n",
       "      <td>13606</td>\n",
       "      <td>14613</td>\n",
       "      <td>1979</td>\n",
       "      <td>40</td>\n",
       "      <td>0</td>\n",
       "      <td>5</td>\n",
       "      <td>9153</td>\n",
       "      <td>70040</td>\n",
       "    </tr>\n",
       "  </tbody>\n",
       "</table>\n",
       "<p>394268 rows × 9 columns</p>\n",
       "</div>"
      ],
      "text/plain": [
       "             기준일자  가맹점신우편번호  고객신우편번호    생년  연령대코드  성별코드  매출구분코드  가맹점업종코드  \\\n",
       "26113    20190401      8393    12104  1977     40     1       5     4076   \n",
       "26120    20190401      8393    12910  1972     45     0       5     4076   \n",
       "26121    20190401      8393    12910  1977     40     1       5     4076   \n",
       "26122    20190401      8393    12910  1981     35     1       5     4076   \n",
       "26126    20190401      6654    62281  1997     20     0       5     9998   \n",
       "...           ...       ...      ...   ...    ...   ...     ...      ...   \n",
       "2097131  20190514     13606    14600  1958     60     1       5     9153   \n",
       "2097133  20190514     13606    14600  1966     50     0       5     9153   \n",
       "2097134  20190514     13606    14600  1967     50     1       5     9153   \n",
       "2097139  20190514     13606    14613  1974     45     0       5     9153   \n",
       "2097141  20190514     13606    14613  1979     40     0       5     9153   \n",
       "\n",
       "           매출금액  \n",
       "26113    187735  \n",
       "26120    317530  \n",
       "26121    289392  \n",
       "26122    283328  \n",
       "26126     13190  \n",
       "...         ...  \n",
       "2097131  101500  \n",
       "2097133   84990  \n",
       "2097134   90473  \n",
       "2097139   35254  \n",
       "2097141   70040  \n",
       "\n",
       "[394268 rows x 9 columns]"
      ]
     },
     "execution_count": 11,
     "metadata": {},
     "output_type": "execute_result"
    }
   ],
   "source": [
    "temp_19.loc[temp_19.duplicated(subset=temp_19.columns)]"
   ]
  },
  {
   "cell_type": "code",
   "execution_count": 12,
   "metadata": {},
   "outputs": [
    {
     "data": {
      "text/plain": [
       "기준일자        20190401\n",
       "가맹점신우편번호        8393\n",
       "고객신우편번호        12104\n",
       "생년              1977\n",
       "연령대코드             40\n",
       "성별코드               1\n",
       "매출구분코드             5\n",
       "가맹점업종코드         4076\n",
       "매출금액          187735\n",
       "Name: 26113, dtype: int64"
      ]
     },
     "execution_count": 12,
     "metadata": {},
     "output_type": "execute_result"
    }
   ],
   "source": [
    "temp_19.iloc[26113]"
   ]
  },
  {
   "cell_type": "code",
   "execution_count": 13,
   "metadata": {},
   "outputs": [
    {
     "data": {
      "text/html": [
       "<div>\n",
       "<style scoped>\n",
       "    .dataframe tbody tr th:only-of-type {\n",
       "        vertical-align: middle;\n",
       "    }\n",
       "\n",
       "    .dataframe tbody tr th {\n",
       "        vertical-align: top;\n",
       "    }\n",
       "\n",
       "    .dataframe thead th {\n",
       "        text-align: right;\n",
       "    }\n",
       "</style>\n",
       "<table border=\"1\" class=\"dataframe\">\n",
       "  <thead>\n",
       "    <tr style=\"text-align: right;\">\n",
       "      <th></th>\n",
       "      <th>기준일자</th>\n",
       "      <th>가맹점신우편번호</th>\n",
       "      <th>고객신우편번호</th>\n",
       "      <th>생년</th>\n",
       "      <th>연령대코드</th>\n",
       "      <th>성별코드</th>\n",
       "      <th>매출구분코드</th>\n",
       "      <th>가맹점업종코드</th>\n",
       "      <th>매출금액</th>\n",
       "    </tr>\n",
       "  </thead>\n",
       "  <tbody>\n",
       "  </tbody>\n",
       "</table>\n",
       "</div>"
      ],
      "text/plain": [
       "Empty DataFrame\n",
       "Columns: [기준일자, 가맹점신우편번호, 고객신우편번호, 생년, 연령대코드, 성별코드, 매출구분코드, 가맹점업종코드, 매출금액]\n",
       "Index: []"
      ]
     },
     "execution_count": 13,
     "metadata": {},
     "output_type": "execute_result"
    }
   ],
   "source": [
    "temp_19.loc[(temp_19[temp_19.columns[0]]==20190401) & (temp_19[temp_19.columns[1]]==8393)  & (temp_19[temp_19.columns[2]]==12104)  & (temp_19[temp_19.columns[3]]==1977)  & (temp_19[temp_19.columns[4]]==40)  & (temp_19[temp_19.columns[5]]==0)  & (temp_19[temp_19.columns[6]]==5)  & (temp_19[temp_19.columns[7]]==4076)  & (temp_19[temp_19.columns[8]]==187735)]"
   ]
  },
  {
   "cell_type": "markdown",
   "metadata": {},
   "source": [
    "## 중복데이터가 2097150개 중에서 394268개가 발견됨"
   ]
  },
  {
   "cell_type": "markdown",
   "metadata": {},
   "source": [
    "#### feature 들의 모든 값이 일치할 수 있는 확률이 존재하지만 그럼에도 불구하고 18.8%, 거의 20%에 달하는 데이터가 중복된다는 건 맞춰주기 위해 의도적으로 늘려 놓은 것으로 확인됨"
   ]
  },
  {
   "cell_type": "code",
   "execution_count": 14,
   "metadata": {},
   "outputs": [],
   "source": [
    "temp_19.drop_duplicates(inplace= True)"
   ]
  },
  {
   "cell_type": "code",
   "execution_count": 15,
   "metadata": {},
   "outputs": [],
   "source": [
    "temp_19.reset_index(drop=True,inplace = True)"
   ]
  },
  {
   "cell_type": "code",
   "execution_count": 16,
   "metadata": {},
   "outputs": [
    {
     "data": {
      "text/html": [
       "<div>\n",
       "<style scoped>\n",
       "    .dataframe tbody tr th:only-of-type {\n",
       "        vertical-align: middle;\n",
       "    }\n",
       "\n",
       "    .dataframe tbody tr th {\n",
       "        vertical-align: top;\n",
       "    }\n",
       "\n",
       "    .dataframe thead th {\n",
       "        text-align: right;\n",
       "    }\n",
       "</style>\n",
       "<table border=\"1\" class=\"dataframe\">\n",
       "  <thead>\n",
       "    <tr style=\"text-align: right;\">\n",
       "      <th></th>\n",
       "      <th>기준일자</th>\n",
       "      <th>가맹점신우편번호</th>\n",
       "      <th>고객신우편번호</th>\n",
       "      <th>생년</th>\n",
       "      <th>연령대코드</th>\n",
       "      <th>성별코드</th>\n",
       "      <th>매출구분코드</th>\n",
       "      <th>가맹점업종코드</th>\n",
       "      <th>매출금액</th>\n",
       "    </tr>\n",
       "  </thead>\n",
       "  <tbody>\n",
       "    <tr>\n",
       "      <th>0</th>\n",
       "      <td>20190401</td>\n",
       "      <td>6654</td>\n",
       "      <td>14688</td>\n",
       "      <td>1995</td>\n",
       "      <td>25</td>\n",
       "      <td>0</td>\n",
       "      <td>5</td>\n",
       "      <td>9998</td>\n",
       "      <td>128180</td>\n",
       "    </tr>\n",
       "    <tr>\n",
       "      <th>1</th>\n",
       "      <td>20190401</td>\n",
       "      <td>6654</td>\n",
       "      <td>14688</td>\n",
       "      <td>1998</td>\n",
       "      <td>20</td>\n",
       "      <td>1</td>\n",
       "      <td>5</td>\n",
       "      <td>9998</td>\n",
       "      <td>14620</td>\n",
       "    </tr>\n",
       "    <tr>\n",
       "      <th>2</th>\n",
       "      <td>20190401</td>\n",
       "      <td>6654</td>\n",
       "      <td>14697</td>\n",
       "      <td>1999</td>\n",
       "      <td>20</td>\n",
       "      <td>0</td>\n",
       "      <td>5</td>\n",
       "      <td>9998</td>\n",
       "      <td>32000</td>\n",
       "    </tr>\n",
       "    <tr>\n",
       "      <th>3</th>\n",
       "      <td>20190401</td>\n",
       "      <td>6654</td>\n",
       "      <td>14699</td>\n",
       "      <td>1960</td>\n",
       "      <td>60</td>\n",
       "      <td>1</td>\n",
       "      <td>5</td>\n",
       "      <td>9998</td>\n",
       "      <td>17588</td>\n",
       "    </tr>\n",
       "    <tr>\n",
       "      <th>4</th>\n",
       "      <td>20190401</td>\n",
       "      <td>6654</td>\n",
       "      <td>14699</td>\n",
       "      <td>1990</td>\n",
       "      <td>30</td>\n",
       "      <td>1</td>\n",
       "      <td>5</td>\n",
       "      <td>9998</td>\n",
       "      <td>41463</td>\n",
       "    </tr>\n",
       "    <tr>\n",
       "      <th>...</th>\n",
       "      <td>...</td>\n",
       "      <td>...</td>\n",
       "      <td>...</td>\n",
       "      <td>...</td>\n",
       "      <td>...</td>\n",
       "      <td>...</td>\n",
       "      <td>...</td>\n",
       "      <td>...</td>\n",
       "      <td>...</td>\n",
       "    </tr>\n",
       "    <tr>\n",
       "      <th>1702877</th>\n",
       "      <td>20190514</td>\n",
       "      <td>13606</td>\n",
       "      <td>14619</td>\n",
       "      <td>1976</td>\n",
       "      <td>40</td>\n",
       "      <td>1</td>\n",
       "      <td>5</td>\n",
       "      <td>9153</td>\n",
       "      <td>103467</td>\n",
       "    </tr>\n",
       "    <tr>\n",
       "      <th>1702878</th>\n",
       "      <td>20190514</td>\n",
       "      <td>13606</td>\n",
       "      <td>14620</td>\n",
       "      <td>1964</td>\n",
       "      <td>55</td>\n",
       "      <td>1</td>\n",
       "      <td>5</td>\n",
       "      <td>9153</td>\n",
       "      <td>106097</td>\n",
       "    </tr>\n",
       "    <tr>\n",
       "      <th>1702879</th>\n",
       "      <td>20190514</td>\n",
       "      <td>13606</td>\n",
       "      <td>14621</td>\n",
       "      <td>1958</td>\n",
       "      <td>60</td>\n",
       "      <td>1</td>\n",
       "      <td>5</td>\n",
       "      <td>9153</td>\n",
       "      <td>70097</td>\n",
       "    </tr>\n",
       "    <tr>\n",
       "      <th>1702880</th>\n",
       "      <td>20190514</td>\n",
       "      <td>13606</td>\n",
       "      <td>14633</td>\n",
       "      <td>1994</td>\n",
       "      <td>25</td>\n",
       "      <td>1</td>\n",
       "      <td>5</td>\n",
       "      <td>9153</td>\n",
       "      <td>196167</td>\n",
       "    </tr>\n",
       "    <tr>\n",
       "      <th>1702881</th>\n",
       "      <td>20190514</td>\n",
       "      <td>13606</td>\n",
       "      <td>14636</td>\n",
       "      <td>1991</td>\n",
       "      <td>25</td>\n",
       "      <td>0</td>\n",
       "      <td>5</td>\n",
       "      <td>9153</td>\n",
       "      <td>169020</td>\n",
       "    </tr>\n",
       "  </tbody>\n",
       "</table>\n",
       "<p>1702882 rows × 9 columns</p>\n",
       "</div>"
      ],
      "text/plain": [
       "             기준일자  가맹점신우편번호  고객신우편번호    생년  연령대코드  성별코드  매출구분코드  가맹점업종코드  \\\n",
       "0        20190401      6654    14688  1995     25     0       5     9998   \n",
       "1        20190401      6654    14688  1998     20     1       5     9998   \n",
       "2        20190401      6654    14697  1999     20     0       5     9998   \n",
       "3        20190401      6654    14699  1960     60     1       5     9998   \n",
       "4        20190401      6654    14699  1990     30     1       5     9998   \n",
       "...           ...       ...      ...   ...    ...   ...     ...      ...   \n",
       "1702877  20190514     13606    14619  1976     40     1       5     9153   \n",
       "1702878  20190514     13606    14620  1964     55     1       5     9153   \n",
       "1702879  20190514     13606    14621  1958     60     1       5     9153   \n",
       "1702880  20190514     13606    14633  1994     25     1       5     9153   \n",
       "1702881  20190514     13606    14636  1991     25     0       5     9153   \n",
       "\n",
       "           매출금액  \n",
       "0        128180  \n",
       "1         14620  \n",
       "2         32000  \n",
       "3         17588  \n",
       "4         41463  \n",
       "...         ...  \n",
       "1702877  103467  \n",
       "1702878  106097  \n",
       "1702879   70097  \n",
       "1702880  196167  \n",
       "1702881  169020  \n",
       "\n",
       "[1702882 rows x 9 columns]"
      ]
     },
     "execution_count": 16,
     "metadata": {},
     "output_type": "execute_result"
    }
   ],
   "source": [
    "temp_19"
   ]
  },
  {
   "cell_type": "markdown",
   "metadata": {},
   "source": [
    "#### 2020년 데이터에는 중복값이 하나도 발견되지 않음. 2019년데이터를 2020년 데이터에 맞춰주기 위해 의도적으로 늘린 것 같다는 의심이 거의 확실시됨"
   ]
  },
  {
   "cell_type": "code",
   "execution_count": 17,
   "metadata": {},
   "outputs": [
    {
     "data": {
      "text/html": [
       "<div>\n",
       "<style scoped>\n",
       "    .dataframe tbody tr th:only-of-type {\n",
       "        vertical-align: middle;\n",
       "    }\n",
       "\n",
       "    .dataframe tbody tr th {\n",
       "        vertical-align: top;\n",
       "    }\n",
       "\n",
       "    .dataframe thead th {\n",
       "        text-align: right;\n",
       "    }\n",
       "</style>\n",
       "<table border=\"1\" class=\"dataframe\">\n",
       "  <thead>\n",
       "    <tr style=\"text-align: right;\">\n",
       "      <th></th>\n",
       "      <th>기준일자</th>\n",
       "      <th>가맹점신우편번호</th>\n",
       "      <th>고객신우편번호</th>\n",
       "      <th>생년</th>\n",
       "      <th>연령대코드</th>\n",
       "      <th>성별코드</th>\n",
       "      <th>매출구분코드</th>\n",
       "      <th>가맹점업종코드</th>\n",
       "      <th>할부개월수</th>\n",
       "      <th>매출금액</th>\n",
       "    </tr>\n",
       "  </thead>\n",
       "  <tbody>\n",
       "  </tbody>\n",
       "</table>\n",
       "</div>"
      ],
      "text/plain": [
       "Empty DataFrame\n",
       "Columns: [기준일자, 가맹점신우편번호, 고객신우편번호, 생년, 연령대코드, 성별코드, 매출구분코드, 가맹점업종코드, 할부개월수, 매출금액]\n",
       "Index: []"
      ]
     },
     "execution_count": 17,
     "metadata": {},
     "output_type": "execute_result"
    }
   ],
   "source": [
    "temp_20.loc[temp_20.duplicated(subset=temp_20.columns)]"
   ]
  },
  {
   "cell_type": "markdown",
   "metadata": {},
   "source": [
    "# 유동인구 데이터 추가해주기"
   ]
  },
  {
   "cell_type": "code",
   "execution_count": 18,
   "metadata": {},
   "outputs": [],
   "source": [
    "move_1904 = pd.read_csv('/Users/jaeyoungcho/Desktop/2020 금융 빅데이터 챌린지-공모전데이터/데이터/케이티/유동인구일집계_201904.csv',sep = ',',encoding='CP949')\n",
    "move_1905 = pd.read_csv('/Users/jaeyoungcho/Desktop/2020 금융 빅데이터 챌린지-공모전데이터/데이터/케이티/유동인구일집계_201905.csv',sep = ',',encoding='CP949')\n",
    "move_2004 = pd.read_csv('/Users/jaeyoungcho/Desktop/2020 금융 빅데이터 챌린지-공모전데이터/데이터/케이티/유동인구일집계_202004.csv',sep = ',',encoding='CP949')\n",
    "move_2005 = pd.read_csv('/Users/jaeyoungcho/Desktop/2020 금융 빅데이터 챌린지-공모전데이터/데이터/케이티/유동인구일집계_202005.csv',sep = ',',encoding='CP949') "
   ]
  },
  {
   "cell_type": "code",
   "execution_count": 19,
   "metadata": {},
   "outputs": [],
   "source": [
    "move_1904.drop(move_1904[move_1904['기준일자'] >= 20190417].index.tolist(),axis = 0,inplace = True)\n",
    "move_1905.drop(move_1905[move_1905['기준일자'] >= 20190515].index.tolist(),axis = 0,inplace = True)\n",
    "move_2004.drop(move_2004[move_2004['기준일자'] >= 20200417].index.tolist(),axis = 0,inplace = True)\n",
    "move_2005.drop(move_2005[move_2005['기준일자'] >= 20200515].index.tolist(),axis = 0,inplace = True)"
   ]
  },
  {
   "cell_type": "code",
   "execution_count": 20,
   "metadata": {},
   "outputs": [],
   "source": [
    "move_19 = pd.concat((move_1904,move_1905),axis = 0)\n",
    "move_20 = pd.concat((move_2004,move_2005),axis = 0)\n",
    "\n",
    "move_19.reset_index(drop=True,inplace = True)\n",
    "move_20.reset_index(drop=True,inplace = True)\n",
    "\n",
    "move_19['연령대구분값'] = move_19['연령대구분값'].apply(lambda x: int(str(x)[-2:]))\n",
    "move_20['연령대구분값'] = move_20['연령대구분값'].apply(lambda x: int(str(x)[-2:]))"
   ]
  },
  {
   "cell_type": "code",
   "execution_count": 21,
   "metadata": {},
   "outputs": [
    {
     "name": "stdout",
     "output_type": "stream",
     "text": [
      "[0, 10, 15, 20, 25, 30, 35, 40, 45, 50, 55, 60, 65, 70]\n",
      "[10, 15, 20, 25, 30, 35, 40, 45, 50, 55, 60, 65, 70]\n"
     ]
    }
   ],
   "source": [
    "# 유동인구의 연령대구분값과 카드데이터의 연령대구분값이 다르다. 카드데이터에 맞출 것이기 때문에 유동인구 0~10 drop\n",
    "\n",
    "print(sorted(move_19['연령대구분값'].unique()))\n",
    "\n",
    "print(sorted(temp_19['연령대코드'].unique()))"
   ]
  },
  {
   "cell_type": "code",
   "execution_count": 22,
   "metadata": {},
   "outputs": [],
   "source": [
    "move_19.drop(move_19[move_19['연령대구분값'] <= 10].index , axis = 0 ,inplace = True)\n",
    "\n",
    "move_19[move_19['연령대구분값'] == 0]\n",
    "\n",
    "move_19.drop(['24시간코드'],axis = 1,inplace = True)\n",
    "\n",
    "move_19.rename(columns={'연령대구분값':'연령대코드'},inplace = True)\n",
    "\n",
    "move_19.replace({'M':0,\"F\":1},inplace = True)\n",
    "\n",
    "move_19.drop_duplicates(inplace = True)\n",
    "\n",
    "move_19.reset_index(drop = True,inplace = True)"
   ]
  },
  {
   "cell_type": "code",
   "execution_count": 23,
   "metadata": {},
   "outputs": [],
   "source": [
    "move_20.drop(move_20[move_20['연령대구분값'] <= 10].index , axis = 0 ,inplace = True)\n",
    "\n",
    "move_20[move_20['연령대구분값'] == 0]\n",
    "\n",
    "move_20.drop(['24시간코드'],axis = 1,inplace = True)\n",
    "\n",
    "move_20.rename(columns={'연령대구분값':'연령대코드'},inplace = True)\n",
    "\n",
    "move_20.replace({'M':0,\"F\":1},inplace = True)\n",
    "\n",
    "move_20.drop_duplicates(inplace = True)\n",
    "\n",
    "move_20.reset_index(drop = True,inplace = True)"
   ]
  },
  {
   "cell_type": "code",
   "execution_count": 24,
   "metadata": {},
   "outputs": [],
   "source": [
    "# 기준일자, 성별, 연령대에 따른 인구수 평균을 계산해줬다\n",
    "move_19 = pd.DataFrame(move_19.groupby(['기준일자','성별코드','연령대코드'])['인구수'].mean())\n",
    "move_19.reset_index(inplace = True)\n",
    "\n",
    "move_20 = pd.DataFrame(move_20.groupby(['기준일자','성별코드','연령대코드'])['인구수'].mean())\n",
    "move_20.reset_index(inplace = True)"
   ]
  },
  {
   "cell_type": "code",
   "execution_count": 41,
   "metadata": {},
   "outputs": [],
   "source": [
    "# card 데이터에 합쳐버리기~\n",
    "card_19 = pd.merge(temp_19,move_19,on = ['기준일자','연령대코드','성별코드'])\n",
    "card_20 = pd.merge(temp_20,move_20,on = ['기준일자','연령대코드','성별코드'])"
   ]
  },
  {
   "cell_type": "code",
   "execution_count": 42,
   "metadata": {},
   "outputs": [],
   "source": [
    "card_19['기준일자'] = card_19['기준일자'].apply(lambda x : x % 10000)\n",
    "card_20['기준일자'] = card_20['기준일자'].apply(lambda x : x % 10000)"
   ]
  },
  {
   "cell_type": "code",
   "execution_count": 43,
   "metadata": {},
   "outputs": [],
   "source": [
    "card_19.rename(columns = {'매출금액':'19매출금액','인구수':'유동인구'},inplace = True)\n",
    "\n",
    "card_20.rename(columns = {'매출금액':'20매출금액','인구수':'유동인구'},inplace = True)"
   ]
  },
  {
   "cell_type": "code",
   "execution_count": 44,
   "metadata": {},
   "outputs": [],
   "source": [
    "card_20.drop(['할부개월수'],axis = 1,inplace = True)\n",
    "card_20.drop(['유동인구'],axis = 1,inplace = True)"
   ]
  },
  {
   "cell_type": "code",
   "execution_count": 45,
   "metadata": {},
   "outputs": [],
   "source": [
    "card_19.drop(['가맹점신우편번호'],axis = 1, inplace = True)\n",
    "card_20.drop(['가맹점신우편번호'],axis = 1, inplace = True)"
   ]
  },
  {
   "cell_type": "code",
   "execution_count": 46,
   "metadata": {},
   "outputs": [
    {
     "data": {
      "text/html": [
       "<div>\n",
       "<style scoped>\n",
       "    .dataframe tbody tr th:only-of-type {\n",
       "        vertical-align: middle;\n",
       "    }\n",
       "\n",
       "    .dataframe tbody tr th {\n",
       "        vertical-align: top;\n",
       "    }\n",
       "\n",
       "    .dataframe thead th {\n",
       "        text-align: right;\n",
       "    }\n",
       "</style>\n",
       "<table border=\"1\" class=\"dataframe\">\n",
       "  <thead>\n",
       "    <tr style=\"text-align: right;\">\n",
       "      <th></th>\n",
       "      <th>기준일자</th>\n",
       "      <th>고객신우편번호</th>\n",
       "      <th>생년</th>\n",
       "      <th>연령대코드</th>\n",
       "      <th>성별코드</th>\n",
       "      <th>매출구분코드</th>\n",
       "      <th>가맹점업종코드</th>\n",
       "      <th>20매출금액</th>\n",
       "    </tr>\n",
       "  </thead>\n",
       "  <tbody>\n",
       "    <tr>\n",
       "      <th>0</th>\n",
       "      <td>401</td>\n",
       "      <td>46993</td>\n",
       "      <td>1966</td>\n",
       "      <td>55</td>\n",
       "      <td>1</td>\n",
       "      <td>5</td>\n",
       "      <td>4076</td>\n",
       "      <td>43733</td>\n",
       "    </tr>\n",
       "    <tr>\n",
       "      <th>1</th>\n",
       "      <td>401</td>\n",
       "      <td>15292</td>\n",
       "      <td>1965</td>\n",
       "      <td>55</td>\n",
       "      <td>1</td>\n",
       "      <td>9</td>\n",
       "      <td>8006</td>\n",
       "      <td>10710</td>\n",
       "    </tr>\n",
       "    <tr>\n",
       "      <th>2</th>\n",
       "      <td>401</td>\n",
       "      <td>13586</td>\n",
       "      <td>1962</td>\n",
       "      <td>55</td>\n",
       "      <td>1</td>\n",
       "      <td>5</td>\n",
       "      <td>4020</td>\n",
       "      <td>21493</td>\n",
       "    </tr>\n",
       "    <tr>\n",
       "      <th>3</th>\n",
       "      <td>401</td>\n",
       "      <td>15540</td>\n",
       "      <td>1965</td>\n",
       "      <td>55</td>\n",
       "      <td>1</td>\n",
       "      <td>5</td>\n",
       "      <td>9998</td>\n",
       "      <td>19550</td>\n",
       "    </tr>\n",
       "    <tr>\n",
       "      <th>4</th>\n",
       "      <td>401</td>\n",
       "      <td>5698</td>\n",
       "      <td>1962</td>\n",
       "      <td>55</td>\n",
       "      <td>1</td>\n",
       "      <td>5</td>\n",
       "      <td>7041</td>\n",
       "      <td>5300</td>\n",
       "    </tr>\n",
       "    <tr>\n",
       "      <th>...</th>\n",
       "      <td>...</td>\n",
       "      <td>...</td>\n",
       "      <td>...</td>\n",
       "      <td>...</td>\n",
       "      <td>...</td>\n",
       "      <td>...</td>\n",
       "      <td>...</td>\n",
       "      <td>...</td>\n",
       "    </tr>\n",
       "    <tr>\n",
       "      <th>1557521</th>\n",
       "      <td>514</td>\n",
       "      <td>8228</td>\n",
       "      <td>1942</td>\n",
       "      <td>70</td>\n",
       "      <td>1</td>\n",
       "      <td>5</td>\n",
       "      <td>9998</td>\n",
       "      <td>300</td>\n",
       "    </tr>\n",
       "    <tr>\n",
       "      <th>1557522</th>\n",
       "      <td>514</td>\n",
       "      <td>5649</td>\n",
       "      <td>1948</td>\n",
       "      <td>70</td>\n",
       "      <td>1</td>\n",
       "      <td>5</td>\n",
       "      <td>9998</td>\n",
       "      <td>300</td>\n",
       "    </tr>\n",
       "    <tr>\n",
       "      <th>1557523</th>\n",
       "      <td>514</td>\n",
       "      <td>7319</td>\n",
       "      <td>1950</td>\n",
       "      <td>70</td>\n",
       "      <td>1</td>\n",
       "      <td>5</td>\n",
       "      <td>9998</td>\n",
       "      <td>300</td>\n",
       "    </tr>\n",
       "    <tr>\n",
       "      <th>1557524</th>\n",
       "      <td>514</td>\n",
       "      <td>63585</td>\n",
       "      <td>1940</td>\n",
       "      <td>70</td>\n",
       "      <td>1</td>\n",
       "      <td>9</td>\n",
       "      <td>1123</td>\n",
       "      <td>4667</td>\n",
       "    </tr>\n",
       "    <tr>\n",
       "      <th>1557525</th>\n",
       "      <td>514</td>\n",
       "      <td>7344</td>\n",
       "      <td>1950</td>\n",
       "      <td>70</td>\n",
       "      <td>1</td>\n",
       "      <td>5</td>\n",
       "      <td>4020</td>\n",
       "      <td>9877</td>\n",
       "    </tr>\n",
       "  </tbody>\n",
       "</table>\n",
       "<p>1557526 rows × 8 columns</p>\n",
       "</div>"
      ],
      "text/plain": [
       "         기준일자  고객신우편번호    생년  연령대코드  성별코드  매출구분코드  가맹점업종코드  20매출금액\n",
       "0         401    46993  1966     55     1       5     4076   43733\n",
       "1         401    15292  1965     55     1       9     8006   10710\n",
       "2         401    13586  1962     55     1       5     4020   21493\n",
       "3         401    15540  1965     55     1       5     9998   19550\n",
       "4         401     5698  1962     55     1       5     7041    5300\n",
       "...       ...      ...   ...    ...   ...     ...      ...     ...\n",
       "1557521   514     8228  1942     70     1       5     9998     300\n",
       "1557522   514     5649  1948     70     1       5     9998     300\n",
       "1557523   514     7319  1950     70     1       5     9998     300\n",
       "1557524   514    63585  1940     70     1       9     1123    4667\n",
       "1557525   514     7344  1950     70     1       5     4020    9877\n",
       "\n",
       "[1557526 rows x 8 columns]"
      ]
     },
     "execution_count": 46,
     "metadata": {},
     "output_type": "execute_result"
    }
   ],
   "source": [
    "card_20"
   ]
  },
  {
   "cell_type": "code",
   "execution_count": 47,
   "metadata": {},
   "outputs": [],
   "source": [
    "clustering = sorted(card_20['20매출금액'].tolist())\n",
    "clustering = np.array(clustering)\n",
    "from sklearn.cluster import KMeans\n",
    "km = KMeans(n_clusters=10).fit(clustering.reshape(-1,1))"
   ]
  },
  {
   "cell_type": "code",
   "execution_count": 48,
   "metadata": {},
   "outputs": [],
   "source": [
    "cluster = {}\n",
    "for i in range(len(clustering)):\n",
    "    cluster[clustering[i]] = km.labels_[i]"
   ]
  },
  {
   "cell_type": "code",
   "execution_count": 54,
   "metadata": {},
   "outputs": [],
   "source": [
    "cluster = pd.DataFrame(km.labels_,index=sorted(card_20['20매출금액'].tolist()))"
   ]
  },
  {
   "cell_type": "code",
   "execution_count": 55,
   "metadata": {},
   "outputs": [],
   "source": [
    "cluster.reset_index(inplace = True)"
   ]
  },
  {
   "cell_type": "code",
   "execution_count": 56,
   "metadata": {},
   "outputs": [],
   "source": [
    "cluster.rename(columns={'index':'20매출금액'},inplace = True)"
   ]
  },
  {
   "cell_type": "code",
   "execution_count": null,
   "metadata": {},
   "outputs": [],
   "source": [
    "card_20 = pd.merge(card_20,cluster,on = '20매출금액')"
   ]
  },
  {
   "cell_type": "code",
   "execution_count": null,
   "metadata": {},
   "outputs": [],
   "source": [
    "card_20"
   ]
  },
  {
   "cell_type": "code",
   "execution_count": null,
   "metadata": {},
   "outputs": [],
   "source": []
  },
  {
   "cell_type": "code",
   "execution_count": null,
   "metadata": {},
   "outputs": [],
   "source": []
  },
  {
   "cell_type": "code",
   "execution_count": null,
   "metadata": {},
   "outputs": [],
   "source": [
    "card = pd.merge(card_19,card_20, on = ['기준일자','고객신우편번호','생년','연령대코드','성별코드','매출구분코드','가맹점업종코드'])"
   ]
  },
  {
   "cell_type": "code",
   "execution_count": null,
   "metadata": {},
   "outputs": [],
   "source": [
    "card"
   ]
  },
  {
   "cell_type": "code",
   "execution_count": null,
   "metadata": {},
   "outputs": [],
   "source": [
    "# 최종 모양\n",
    "card['20매출금액'].tolist()"
   ]
  },
  {
   "cell_type": "code",
   "execution_count": null,
   "metadata": {},
   "outputs": [],
   "source": []
  },
  {
   "cell_type": "code",
   "execution_count": null,
   "metadata": {},
   "outputs": [],
   "source": [
    "X,y = [card[card.columns[:-1]],card[card.columns[-1]]]"
   ]
  },
  {
   "cell_type": "code",
   "execution_count": null,
   "metadata": {},
   "outputs": [],
   "source": [
    "from sklearn.model_selection import train_test_split\n",
    "X_train,X_test,y_train,y_test = train_test_split(X,y,test_size = 0.1,random_state = 42)"
   ]
  },
  {
   "cell_type": "code",
   "execution_count": null,
   "metadata": {},
   "outputs": [],
   "source": [
    "from sklearn.ensemble import RandomForestRegressor\n",
    "rf = RandomForestRegressor().fit(X_train,y_train)"
   ]
  },
  {
   "cell_type": "code",
   "execution_count": null,
   "metadata": {},
   "outputs": [],
   "source": [
    "rf.score(X_test,y_test)"
   ]
  },
  {
   "cell_type": "code",
   "execution_count": null,
   "metadata": {},
   "outputs": [],
   "source": [
    "rf.feature_importances_"
   ]
  },
  {
   "cell_type": "code",
   "execution_count": null,
   "metadata": {},
   "outputs": [],
   "source": [
    "plt.barh(X.columns.tolist(),rf.feature_importances_)"
   ]
  },
  {
   "cell_type": "code",
   "execution_count": null,
   "metadata": {},
   "outputs": [],
   "source": []
  },
  {
   "cell_type": "code",
   "execution_count": null,
   "metadata": {},
   "outputs": [],
   "source": [
    "card"
   ]
  },
  {
   "cell_type": "code",
   "execution_count": null,
   "metadata": {},
   "outputs": [],
   "source": [
    "X,y = [card[card.columns[:-1]],card[card.columns[-1]]]"
   ]
  },
  {
   "cell_type": "code",
   "execution_count": null,
   "metadata": {},
   "outputs": [],
   "source": [
    "from sklearn.model_selection import cross_valid_score\n",
    "cross_valid_score(rf,X,y,cv = 5)"
   ]
  },
  {
   "cell_type": "code",
   "execution_count": null,
   "metadata": {},
   "outputs": [],
   "source": []
  }
 ],
 "metadata": {
  "kernelspec": {
   "display_name": "Python 3",
   "language": "python",
   "name": "python3"
  },
  "language_info": {
   "codemirror_mode": {
    "name": "ipython",
    "version": 3
   },
   "file_extension": ".py",
   "mimetype": "text/x-python",
   "name": "python",
   "nbconvert_exporter": "python",
   "pygments_lexer": "ipython3",
   "version": "3.6.10"
  }
 },
 "nbformat": 4,
 "nbformat_minor": 4
}
